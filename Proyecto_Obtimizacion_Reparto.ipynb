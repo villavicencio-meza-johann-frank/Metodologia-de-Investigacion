{
 "cells": [
  {
   "cell_type": "code",
   "execution_count": 1,
   "metadata": {},
   "outputs": [],
   "source": [
    " class Node:\n",
    "    def __init__(self, index, demand, serv_time, time_window, lat, long):\n",
    "        self.index = index\n",
    "        self.demand = demand\n",
    "        self.serv_time = serv_time\n",
    "        self.time_window = time_window\n",
    "        self.lat = lat\n",
    "        self.long = long\n",
    "\n",
    "    def __index__(self):\n",
    "        return self.index\n",
    "\n",
    "    def __hash__(self):\n",
    "        return self.index\n",
    "\n",
    "    def __repr__(self):\n",
    "        return f\"Customer <{self.index}>\""
   ]
  },
  {
   "cell_type": "code",
   "execution_count": 2,
   "metadata": {},
   "outputs": [],
   "source": [
    "from docplex.mp.model import Model\n",
    "\n",
    "def build_VRPTW_problem(capacity, nodes, times, vehicles,**kwargs):\n",
    "    \n",
    "    \n",
    "    #Parámetros\n",
    "    customers = [cstmrs for cstmrs in nodes if cstmrs.index != 0] \n",
    "    #Big M\n",
    "    bigM = 1000\n",
    "\n",
    "    #Declaración del modelo\n",
    "    m = Model(name = 'VRPTW', **kwargs)\n",
    "    \n",
    "    # ----- Variables -----\n",
    "    #Arco cubierto por vehículo\n",
    "    m.x_var = m.binary_var_cube(vehicles,nodes,nodes, name= 'route')\n",
    "    #Start time for the service of a customer\n",
    "    m.s_var = m.continuous_var_matrix(vehicles, nodes, name = 'service_time')\n",
    "\n",
    "    # ----- Restricciones -----\n",
    "    #La satisfacción del cliente\n",
    "    m.covering_cts = []\n",
    "    for i in customers: \n",
    "        cust_satisf_ct = m.sum(\n",
    "            m.x_var[u,i,j] for j in nodes for u in vehicles)>= 1\n",
    "        cust_satisf_ct.name = 'customer_satisf_{0!s}'.format(i.index)\n",
    "        m.covering_cts.append(cust_satisf_ct)\n",
    "\n",
    "    m.add_constraints(m.covering_cts)\n",
    "     \n",
    "    # Estructura de ruta\n",
    "    m.flow_cts = []\n",
    "    for i in nodes:\n",
    "        for u in vehicles:\n",
    "            flow_ct = (m.sum(m.x_var[u,i,j] for j in nodes) - \n",
    "                m.sum(m.x_var[u,j,i] for j in nodes)) == 0\n",
    "            flow_ct.name = 'flow_constraint_{0!s}_{1!s}'.format(i.index,u)\n",
    "            m.flow_cts.append(flow_ct)\n",
    "\n",
    "    for u in vehicles: \n",
    "        flow_ct = m.sum(m.x_var[u,nodes[0],i] for i in nodes) <= 1\n",
    "        flow_ct.name = 'flow_constraint_{0!s}_{1!s}_origin'.format(nodes[0].index,u)\n",
    "        m.flow_cts.append(flow_ct)\n",
    "\n",
    "    m.add_constraints(m.flow_cts)\n",
    " \n",
    "    #Capacidad del vehículo\n",
    "    m.capacity_cts = []\n",
    "    for u in vehicles:\n",
    "        capacity_ct = m.sum(nodes[i].demand * m.x_var[u,i,j] for i in nodes for j in nodes) <= capacity\n",
    "        capacity_ct.name = 'capacity_vehicle{0!s}'.format(u)\n",
    "        m.capacity_cts.append(capacity_ct)\n",
    "    \n",
    "    m.add_constraints(m.capacity_cts)\n",
    "    \n",
    "    #Ventanas de tiempo\n",
    "    m.time_window_cts = []\n",
    "    for i in nodes:\n",
    "        for j in customers: \n",
    "            for u in vehicles:\n",
    "             time_window_ct = m.s_var[u,i] + i.serv_time + times[i.index][j.index] - m.s_var[u,j] + bigM*m.x_var[u,i,j] <= bigM\n",
    "             time_window_ct.name = 'time_window_{0!s}_{1!s}_{2!s}'.format(u,i.index,j.index)\n",
    "             m.time_window_cts.append(time_window_ct)\n",
    "    \n",
    "    for i in customers:\n",
    "        for u in vehicles: \n",
    "         time_window_ct = m.s_var[u,i]+ i.serv_time + times[i][0] - nodes[0].time_window[1] + bigM*m.x_var[u,i,nodes[0]]<= bigM\n",
    "         time_window_ct.name = 'time_window_{0!s}_{1!s}_{2!s}_arrival'.format(u,i.index,nodes[0].index)\n",
    "         m.time_window_cts.append(time_window_ct)\n",
    "\n",
    "    for i in nodes:\n",
    "        for u in vehicles:\n",
    "            time_window_ct_lb = i.time_window[0] <= m.s_var[u,i]\n",
    "            time_window_ct_lb.name = 'time_window_lb_{0!s}'.format(i.index)\n",
    "            time_window_ct_ub = i.time_window[1] >= m.s_var[u,i]\n",
    "            time_window_ct_ub.name = 'time_window_ub_{0!s}'.format(i.index)\n",
    "            m.time_window_cts.append(time_window_ct_lb)\n",
    "            m.time_window_cts.append(time_window_ct_ub)\n",
    "    m.add_constraints(m.time_window_cts)\n",
    " \n",
    "    #----- Función objetiva -----\n",
    "    #Minimice el costo total\n",
    "    m.total_cost = m.sum(times[i][j]*m.x_var[u,i,j] for i in nodes for j in nodes for u in vehicles)\n",
    "    m.minimize(m.total_cost)\n",
    "    \n",
    "    return m\n"
   ]
  },
  {
   "cell_type": "code",
   "execution_count": 3,
   "metadata": {},
   "outputs": [],
   "source": [
    "CENTRO_REPARTO = Node(0,0,0,[0,120],-12.055286215862173, -77.03761770324066)# Wilson centro cómputo compras\n",
    "Punto_1 = Node(1,10,3,[0,20],-11.860864774319099, -77.08270885357037)# ,Domicilio 1 Puente Piedra\n",
    "Punto_2 = Node(2,20,3,[20,40], -11.880264510131493, -77.02095950290273)# ,Domicilio 2 Carabayllo \n",
    "Punto_3 = Node(3,30,3,[40,60],-11.98956118254249, -77.09880073186692)# Domicilio 3 San Martin de Porres\n",
    "Punto_4 = Node(4,20,3,[0,80], -12.047362913132519, -77.12649612188682)# ,Domicilio 4  Callao\n",
    "Punto_5 = Node(5,20,3,[60,80],-12.165407596126173, -76.96328741326177)#Domicilio 5 Miraflores\n",
    "Punto_6 = Node(6,65,3,[80,120],-12.022785437170445, -76.89412395721087)#Domicilio 6 Ate\n",
    "Punto_7 = Node(7,15,3,[80,120],-12.114866761848441, -77.03982184054135)#Domicilio 7 Miraflores\n",
    "Punto_8 = Node(8,40,3,[80,120],-12.243772882472243, -76.91589482960883)#Domicilio 8 Villa el Salvador\n",
    "vehicles = [1,2,3]\n",
    "capacity = 100\n",
    "nodes = [CENTRO_REPARTO, Punto_1,Punto_2, Punto_3,Punto_4,Punto_5,Punto_6,Punto_7,Punto_8]"
   ]
  },
  {
   "cell_type": "code",
   "execution_count": 4,
   "metadata": {
    "scrolled": false
   },
   "outputs": [
    {
     "data": {
      "text/html": [
       "<div style=\"width:100%;\"><div style=\"position:relative;width:100%;height:0;padding-bottom:60%;\"><span style=\"color:#565656\">Make this Notebook Trusted to load map: File -> Trust Notebook</span><iframe src=\"about:blank\" style=\"position:absolute;width:100%;height:100%;left:0;top:0;border:none !important;\" data-html=%3C%21DOCTYPE%20html%3E%0A%3Chead%3E%20%20%20%20%0A%20%20%20%20%3Cmeta%20http-equiv%3D%22content-type%22%20content%3D%22text/html%3B%20charset%3DUTF-8%22%20/%3E%0A%20%20%20%20%0A%20%20%20%20%20%20%20%20%3Cscript%3E%0A%20%20%20%20%20%20%20%20%20%20%20%20L_NO_TOUCH%20%3D%20false%3B%0A%20%20%20%20%20%20%20%20%20%20%20%20L_DISABLE_3D%20%3D%20false%3B%0A%20%20%20%20%20%20%20%20%3C/script%3E%0A%20%20%20%20%0A%20%20%20%20%3Cstyle%3Ehtml%2C%20body%20%7Bwidth%3A%20100%25%3Bheight%3A%20100%25%3Bmargin%3A%200%3Bpadding%3A%200%3B%7D%3C/style%3E%0A%20%20%20%20%3Cstyle%3E%23map%20%7Bposition%3Aabsolute%3Btop%3A0%3Bbottom%3A0%3Bright%3A0%3Bleft%3A0%3B%7D%3C/style%3E%0A%20%20%20%20%3Cscript%20src%3D%22https%3A//cdn.jsdelivr.net/npm/leaflet%401.6.0/dist/leaflet.js%22%3E%3C/script%3E%0A%20%20%20%20%3Cscript%20src%3D%22https%3A//code.jquery.com/jquery-1.12.4.min.js%22%3E%3C/script%3E%0A%20%20%20%20%3Cscript%20src%3D%22https%3A//maxcdn.bootstrapcdn.com/bootstrap/3.2.0/js/bootstrap.min.js%22%3E%3C/script%3E%0A%20%20%20%20%3Cscript%20src%3D%22https%3A//cdnjs.cloudflare.com/ajax/libs/Leaflet.awesome-markers/2.0.2/leaflet.awesome-markers.js%22%3E%3C/script%3E%0A%20%20%20%20%3Clink%20rel%3D%22stylesheet%22%20href%3D%22https%3A//cdn.jsdelivr.net/npm/leaflet%401.6.0/dist/leaflet.css%22/%3E%0A%20%20%20%20%3Clink%20rel%3D%22stylesheet%22%20href%3D%22https%3A//maxcdn.bootstrapcdn.com/bootstrap/3.2.0/css/bootstrap.min.css%22/%3E%0A%20%20%20%20%3Clink%20rel%3D%22stylesheet%22%20href%3D%22https%3A//maxcdn.bootstrapcdn.com/bootstrap/3.2.0/css/bootstrap-theme.min.css%22/%3E%0A%20%20%20%20%3Clink%20rel%3D%22stylesheet%22%20href%3D%22https%3A//maxcdn.bootstrapcdn.com/font-awesome/4.6.3/css/font-awesome.min.css%22/%3E%0A%20%20%20%20%3Clink%20rel%3D%22stylesheet%22%20href%3D%22https%3A//cdnjs.cloudflare.com/ajax/libs/Leaflet.awesome-markers/2.0.2/leaflet.awesome-markers.css%22/%3E%0A%20%20%20%20%3Clink%20rel%3D%22stylesheet%22%20href%3D%22https%3A//cdn.jsdelivr.net/gh/python-visualization/folium/folium/templates/leaflet.awesome.rotate.min.css%22/%3E%0A%20%20%20%20%0A%20%20%20%20%20%20%20%20%20%20%20%20%3Cmeta%20name%3D%22viewport%22%20content%3D%22width%3Ddevice-width%2C%0A%20%20%20%20%20%20%20%20%20%20%20%20%20%20%20%20initial-scale%3D1.0%2C%20maximum-scale%3D1.0%2C%20user-scalable%3Dno%22%20/%3E%0A%20%20%20%20%20%20%20%20%20%20%20%20%3Cstyle%3E%0A%20%20%20%20%20%20%20%20%20%20%20%20%20%20%20%20%23map_f92d8fb7fb2f4d90bcfee187efe93f0e%20%7B%0A%20%20%20%20%20%20%20%20%20%20%20%20%20%20%20%20%20%20%20%20position%3A%20relative%3B%0A%20%20%20%20%20%20%20%20%20%20%20%20%20%20%20%20%20%20%20%20width%3A%20100.0%25%3B%0A%20%20%20%20%20%20%20%20%20%20%20%20%20%20%20%20%20%20%20%20height%3A%20100.0%25%3B%0A%20%20%20%20%20%20%20%20%20%20%20%20%20%20%20%20%20%20%20%20left%3A%200.0%25%3B%0A%20%20%20%20%20%20%20%20%20%20%20%20%20%20%20%20%20%20%20%20top%3A%200.0%25%3B%0A%20%20%20%20%20%20%20%20%20%20%20%20%20%20%20%20%7D%0A%20%20%20%20%20%20%20%20%20%20%20%20%3C/style%3E%0A%20%20%20%20%20%20%20%20%0A%3C/head%3E%0A%3Cbody%3E%20%20%20%20%0A%20%20%20%20%0A%20%20%20%20%20%20%20%20%20%20%20%20%3Cdiv%20class%3D%22folium-map%22%20id%3D%22map_f92d8fb7fb2f4d90bcfee187efe93f0e%22%20%3E%3C/div%3E%0A%20%20%20%20%20%20%20%20%0A%3C/body%3E%0A%3Cscript%3E%20%20%20%20%0A%20%20%20%20%0A%20%20%20%20%20%20%20%20%20%20%20%20var%20map_f92d8fb7fb2f4d90bcfee187efe93f0e%20%3D%20L.map%28%0A%20%20%20%20%20%20%20%20%20%20%20%20%20%20%20%20%22map_f92d8fb7fb2f4d90bcfee187efe93f0e%22%2C%0A%20%20%20%20%20%20%20%20%20%20%20%20%20%20%20%20%7B%0A%20%20%20%20%20%20%20%20%20%20%20%20%20%20%20%20%20%20%20%20center%3A%20%5B-12.047209%2C%20-77.069313%5D%2C%0A%20%20%20%20%20%20%20%20%20%20%20%20%20%20%20%20%20%20%20%20crs%3A%20L.CRS.EPSG3857%2C%0A%20%20%20%20%20%20%20%20%20%20%20%20%20%20%20%20%20%20%20%20zoom%3A%2011%2C%0A%20%20%20%20%20%20%20%20%20%20%20%20%20%20%20%20%20%20%20%20zoomControl%3A%20true%2C%0A%20%20%20%20%20%20%20%20%20%20%20%20%20%20%20%20%20%20%20%20preferCanvas%3A%20false%2C%0A%20%20%20%20%20%20%20%20%20%20%20%20%20%20%20%20%7D%0A%20%20%20%20%20%20%20%20%20%20%20%20%29%3B%0A%0A%20%20%20%20%20%20%20%20%20%20%20%20%0A%0A%20%20%20%20%20%20%20%20%0A%20%20%20%20%0A%20%20%20%20%20%20%20%20%20%20%20%20var%20tile_layer_db50b88c7ea5485b85be8005dc6ebc73%20%3D%20L.tileLayer%28%0A%20%20%20%20%20%20%20%20%20%20%20%20%20%20%20%20%22https%3A//%7Bs%7D.tile.openstreetmap.org/%7Bz%7D/%7Bx%7D/%7By%7D.png%22%2C%0A%20%20%20%20%20%20%20%20%20%20%20%20%20%20%20%20%7B%22attribution%22%3A%20%22Data%20by%20%5Cu0026copy%3B%20%5Cu003ca%20href%3D%5C%22http%3A//openstreetmap.org%5C%22%5Cu003eOpenStreetMap%5Cu003c/a%5Cu003e%2C%20under%20%5Cu003ca%20href%3D%5C%22http%3A//www.openstreetmap.org/copyright%5C%22%5Cu003eODbL%5Cu003c/a%5Cu003e.%22%2C%20%22detectRetina%22%3A%20false%2C%20%22maxNativeZoom%22%3A%2018%2C%20%22maxZoom%22%3A%2018%2C%20%22minZoom%22%3A%200%2C%20%22noWrap%22%3A%20false%2C%20%22opacity%22%3A%201%2C%20%22subdomains%22%3A%20%22abc%22%2C%20%22tms%22%3A%20false%7D%0A%20%20%20%20%20%20%20%20%20%20%20%20%29.addTo%28map_f92d8fb7fb2f4d90bcfee187efe93f0e%29%3B%0A%20%20%20%20%20%20%20%20%0A%20%20%20%20%0A%20%20%20%20%20%20%20%20%20%20%20%20var%20marker_a698f05a7261487093cc68ef74c186d7%20%3D%20L.marker%28%0A%20%20%20%20%20%20%20%20%20%20%20%20%20%20%20%20%5B-11.860864774319099%2C%20-77.08270885357037%5D%2C%0A%20%20%20%20%20%20%20%20%20%20%20%20%20%20%20%20%7B%7D%0A%20%20%20%20%20%20%20%20%20%20%20%20%29.addTo%28map_f92d8fb7fb2f4d90bcfee187efe93f0e%29%3B%0A%20%20%20%20%20%20%20%20%0A%20%20%20%20%0A%20%20%20%20%20%20%20%20%20%20%20%20var%20icon_d3bb81725cd6416aa0cb783bacc27bb8%20%3D%20L.AwesomeMarkers.icon%28%0A%20%20%20%20%20%20%20%20%20%20%20%20%20%20%20%20%7B%22extraClasses%22%3A%20%22fa-rotate-0%22%2C%20%22icon%22%3A%20%22home%22%2C%20%22iconColor%22%3A%20%22white%22%2C%20%22markerColor%22%3A%20%22red%22%2C%20%22prefix%22%3A%20%22fa%22%7D%0A%20%20%20%20%20%20%20%20%20%20%20%20%29%3B%0A%20%20%20%20%20%20%20%20%20%20%20%20marker_a698f05a7261487093cc68ef74c186d7.setIcon%28icon_d3bb81725cd6416aa0cb783bacc27bb8%29%3B%0A%20%20%20%20%20%20%20%20%0A%20%20%20%20%0A%20%20%20%20%20%20%20%20var%20popup_12186ee754e14763a00fc64cc4e98506%20%3D%20L.popup%28%7B%22maxWidth%22%3A%20%22100%25%22%7D%29%3B%0A%0A%20%20%20%20%20%20%20%20%0A%20%20%20%20%20%20%20%20%20%20%20%20var%20html_5b42099daf214cf481cf8dab31124437%20%3D%20%24%28%60%3Cdiv%20id%3D%22html_5b42099daf214cf481cf8dab31124437%22%20style%3D%22width%3A%20100.0%25%3B%20height%3A%20100.0%25%3B%22%3EPunto%201%3C/div%3E%60%29%5B0%5D%3B%0A%20%20%20%20%20%20%20%20%20%20%20%20popup_12186ee754e14763a00fc64cc4e98506.setContent%28html_5b42099daf214cf481cf8dab31124437%29%3B%0A%20%20%20%20%20%20%20%20%0A%0A%20%20%20%20%20%20%20%20marker_a698f05a7261487093cc68ef74c186d7.bindPopup%28popup_12186ee754e14763a00fc64cc4e98506%29%0A%20%20%20%20%20%20%20%20%3B%0A%0A%20%20%20%20%20%20%20%20%0A%20%20%20%20%0A%20%20%20%20%0A%20%20%20%20%20%20%20%20%20%20%20%20var%20marker_9bb9d735794948659eabaf555567912f%20%3D%20L.marker%28%0A%20%20%20%20%20%20%20%20%20%20%20%20%20%20%20%20%5B-12.055286215862173%2C%20-77.03761770324066%5D%2C%0A%20%20%20%20%20%20%20%20%20%20%20%20%20%20%20%20%7B%7D%0A%20%20%20%20%20%20%20%20%20%20%20%20%29.addTo%28map_f92d8fb7fb2f4d90bcfee187efe93f0e%29%3B%0A%20%20%20%20%20%20%20%20%0A%20%20%20%20%0A%20%20%20%20%20%20%20%20%20%20%20%20var%20icon_9d281c75bca64e6ba3628f0ddf2c04b3%20%3D%20L.AwesomeMarkers.icon%28%0A%20%20%20%20%20%20%20%20%20%20%20%20%20%20%20%20%7B%22extraClasses%22%3A%20%22fa-rotate-0%22%2C%20%22icon%22%3A%20%22truck%22%2C%20%22iconColor%22%3A%20%22white%22%2C%20%22markerColor%22%3A%20%22green%22%2C%20%22prefix%22%3A%20%22fa%22%7D%0A%20%20%20%20%20%20%20%20%20%20%20%20%29%3B%0A%20%20%20%20%20%20%20%20%20%20%20%20marker_9bb9d735794948659eabaf555567912f.setIcon%28icon_9d281c75bca64e6ba3628f0ddf2c04b3%29%3B%0A%20%20%20%20%20%20%20%20%0A%20%20%20%20%0A%20%20%20%20%20%20%20%20var%20popup_17104205e3d84371a2e3affe5b31ed49%20%3D%20L.popup%28%7B%22maxWidth%22%3A%20%22100%25%22%7D%29%3B%0A%0A%20%20%20%20%20%20%20%20%0A%20%20%20%20%20%20%20%20%20%20%20%20var%20html_4f3b4fd4f3c7494f9bdfa016a03c1fd5%20%3D%20%24%28%60%3Cdiv%20id%3D%22html_4f3b4fd4f3c7494f9bdfa016a03c1fd5%22%20style%3D%22width%3A%20100.0%25%3B%20height%3A%20100.0%25%3B%22%3EZONA%20DE%20REPARTO%3C/div%3E%60%29%5B0%5D%3B%0A%20%20%20%20%20%20%20%20%20%20%20%20popup_17104205e3d84371a2e3affe5b31ed49.setContent%28html_4f3b4fd4f3c7494f9bdfa016a03c1fd5%29%3B%0A%20%20%20%20%20%20%20%20%0A%0A%20%20%20%20%20%20%20%20marker_9bb9d735794948659eabaf555567912f.bindPopup%28popup_17104205e3d84371a2e3affe5b31ed49%29%0A%20%20%20%20%20%20%20%20%3B%0A%0A%20%20%20%20%20%20%20%20%0A%20%20%20%20%0A%20%20%20%20%0A%20%20%20%20%20%20%20%20%20%20%20%20var%20marker_41fbc9c487ac444782e5cf474fd12877%20%3D%20L.marker%28%0A%20%20%20%20%20%20%20%20%20%20%20%20%20%20%20%20%5B-11.880264510131493%2C%20-77.02095950290273%5D%2C%0A%20%20%20%20%20%20%20%20%20%20%20%20%20%20%20%20%7B%7D%0A%20%20%20%20%20%20%20%20%20%20%20%20%29.addTo%28map_f92d8fb7fb2f4d90bcfee187efe93f0e%29%3B%0A%20%20%20%20%20%20%20%20%0A%20%20%20%20%0A%20%20%20%20%20%20%20%20%20%20%20%20var%20icon_d9b0ccf0741a4efc98cbdc5bde7debd7%20%3D%20L.AwesomeMarkers.icon%28%0A%20%20%20%20%20%20%20%20%20%20%20%20%20%20%20%20%7B%22extraClasses%22%3A%20%22fa-rotate-0%22%2C%20%22icon%22%3A%20%22home%22%2C%20%22iconColor%22%3A%20%22white%22%2C%20%22markerColor%22%3A%20%22red%22%2C%20%22prefix%22%3A%20%22fa%22%7D%0A%20%20%20%20%20%20%20%20%20%20%20%20%29%3B%0A%20%20%20%20%20%20%20%20%20%20%20%20marker_41fbc9c487ac444782e5cf474fd12877.setIcon%28icon_d9b0ccf0741a4efc98cbdc5bde7debd7%29%3B%0A%20%20%20%20%20%20%20%20%0A%20%20%20%20%0A%20%20%20%20%20%20%20%20var%20popup_f346ba10c6814ade911cad854f0f9a0a%20%3D%20L.popup%28%7B%22maxWidth%22%3A%20%22100%25%22%7D%29%3B%0A%0A%20%20%20%20%20%20%20%20%0A%20%20%20%20%20%20%20%20%20%20%20%20var%20html_3866a319e20644ba9a0e77a714b5eeb1%20%3D%20%24%28%60%3Cdiv%20id%3D%22html_3866a319e20644ba9a0e77a714b5eeb1%22%20style%3D%22width%3A%20100.0%25%3B%20height%3A%20100.0%25%3B%22%3EPunto%202%3C/div%3E%60%29%5B0%5D%3B%0A%20%20%20%20%20%20%20%20%20%20%20%20popup_f346ba10c6814ade911cad854f0f9a0a.setContent%28html_3866a319e20644ba9a0e77a714b5eeb1%29%3B%0A%20%20%20%20%20%20%20%20%0A%0A%20%20%20%20%20%20%20%20marker_41fbc9c487ac444782e5cf474fd12877.bindPopup%28popup_f346ba10c6814ade911cad854f0f9a0a%29%0A%20%20%20%20%20%20%20%20%3B%0A%0A%20%20%20%20%20%20%20%20%0A%20%20%20%20%0A%20%20%20%20%0A%20%20%20%20%20%20%20%20%20%20%20%20var%20marker_1156086fc39046b8903b7c7a78fa0a2c%20%3D%20L.marker%28%0A%20%20%20%20%20%20%20%20%20%20%20%20%20%20%20%20%5B-12.055286215862173%2C%20-77.03761770324066%5D%2C%0A%20%20%20%20%20%20%20%20%20%20%20%20%20%20%20%20%7B%7D%0A%20%20%20%20%20%20%20%20%20%20%20%20%29.addTo%28map_f92d8fb7fb2f4d90bcfee187efe93f0e%29%3B%0A%20%20%20%20%20%20%20%20%0A%20%20%20%20%0A%20%20%20%20%20%20%20%20%20%20%20%20var%20icon_f3249e83d81e41eabc9bea24c9fd2686%20%3D%20L.AwesomeMarkers.icon%28%0A%20%20%20%20%20%20%20%20%20%20%20%20%20%20%20%20%7B%22extraClasses%22%3A%20%22fa-rotate-0%22%2C%20%22icon%22%3A%20%22truck%22%2C%20%22iconColor%22%3A%20%22white%22%2C%20%22markerColor%22%3A%20%22green%22%2C%20%22prefix%22%3A%20%22fa%22%7D%0A%20%20%20%20%20%20%20%20%20%20%20%20%29%3B%0A%20%20%20%20%20%20%20%20%20%20%20%20marker_1156086fc39046b8903b7c7a78fa0a2c.setIcon%28icon_f3249e83d81e41eabc9bea24c9fd2686%29%3B%0A%20%20%20%20%20%20%20%20%0A%20%20%20%20%0A%20%20%20%20%20%20%20%20var%20popup_3c5e17fec78047d48538e6d532ddc207%20%3D%20L.popup%28%7B%22maxWidth%22%3A%20%22100%25%22%7D%29%3B%0A%0A%20%20%20%20%20%20%20%20%0A%20%20%20%20%20%20%20%20%20%20%20%20var%20html_7a1b37e188de43e6a240f3ce757cf0e4%20%3D%20%24%28%60%3Cdiv%20id%3D%22html_7a1b37e188de43e6a240f3ce757cf0e4%22%20style%3D%22width%3A%20100.0%25%3B%20height%3A%20100.0%25%3B%22%3EZONA%20DE%20REPARTO%3C/div%3E%60%29%5B0%5D%3B%0A%20%20%20%20%20%20%20%20%20%20%20%20popup_3c5e17fec78047d48538e6d532ddc207.setContent%28html_7a1b37e188de43e6a240f3ce757cf0e4%29%3B%0A%20%20%20%20%20%20%20%20%0A%0A%20%20%20%20%20%20%20%20marker_1156086fc39046b8903b7c7a78fa0a2c.bindPopup%28popup_3c5e17fec78047d48538e6d532ddc207%29%0A%20%20%20%20%20%20%20%20%3B%0A%0A%20%20%20%20%20%20%20%20%0A%20%20%20%20%0A%20%20%20%20%0A%20%20%20%20%20%20%20%20%20%20%20%20var%20marker_55a3a211f7af4300a0206e3c80ad17fa%20%3D%20L.marker%28%0A%20%20%20%20%20%20%20%20%20%20%20%20%20%20%20%20%5B-11.98956118254249%2C%20-77.09880073186692%5D%2C%0A%20%20%20%20%20%20%20%20%20%20%20%20%20%20%20%20%7B%7D%0A%20%20%20%20%20%20%20%20%20%20%20%20%29.addTo%28map_f92d8fb7fb2f4d90bcfee187efe93f0e%29%3B%0A%20%20%20%20%20%20%20%20%0A%20%20%20%20%0A%20%20%20%20%20%20%20%20%20%20%20%20var%20icon_a94ee4ea69cc400ebd9a1551bd4c82b3%20%3D%20L.AwesomeMarkers.icon%28%0A%20%20%20%20%20%20%20%20%20%20%20%20%20%20%20%20%7B%22extraClasses%22%3A%20%22fa-rotate-0%22%2C%20%22icon%22%3A%20%22home%22%2C%20%22iconColor%22%3A%20%22white%22%2C%20%22markerColor%22%3A%20%22red%22%2C%20%22prefix%22%3A%20%22fa%22%7D%0A%20%20%20%20%20%20%20%20%20%20%20%20%29%3B%0A%20%20%20%20%20%20%20%20%20%20%20%20marker_55a3a211f7af4300a0206e3c80ad17fa.setIcon%28icon_a94ee4ea69cc400ebd9a1551bd4c82b3%29%3B%0A%20%20%20%20%20%20%20%20%0A%20%20%20%20%0A%20%20%20%20%20%20%20%20var%20popup_b9a62b35975e453d83877f1e48f9ce58%20%3D%20L.popup%28%7B%22maxWidth%22%3A%20%22100%25%22%7D%29%3B%0A%0A%20%20%20%20%20%20%20%20%0A%20%20%20%20%20%20%20%20%20%20%20%20var%20html_d50ff6f7202d465e9079c20700a5d4bb%20%3D%20%24%28%60%3Cdiv%20id%3D%22html_d50ff6f7202d465e9079c20700a5d4bb%22%20style%3D%22width%3A%20100.0%25%3B%20height%3A%20100.0%25%3B%22%3EPunto%203%3C/div%3E%60%29%5B0%5D%3B%0A%20%20%20%20%20%20%20%20%20%20%20%20popup_b9a62b35975e453d83877f1e48f9ce58.setContent%28html_d50ff6f7202d465e9079c20700a5d4bb%29%3B%0A%20%20%20%20%20%20%20%20%0A%0A%20%20%20%20%20%20%20%20marker_55a3a211f7af4300a0206e3c80ad17fa.bindPopup%28popup_b9a62b35975e453d83877f1e48f9ce58%29%0A%20%20%20%20%20%20%20%20%3B%0A%0A%20%20%20%20%20%20%20%20%0A%20%20%20%20%0A%20%20%20%20%0A%20%20%20%20%20%20%20%20%20%20%20%20var%20marker_7289f782c39f4590848d65242c09a3b0%20%3D%20L.marker%28%0A%20%20%20%20%20%20%20%20%20%20%20%20%20%20%20%20%5B-12.055286215862173%2C%20-77.03761770324066%5D%2C%0A%20%20%20%20%20%20%20%20%20%20%20%20%20%20%20%20%7B%7D%0A%20%20%20%20%20%20%20%20%20%20%20%20%29.addTo%28map_f92d8fb7fb2f4d90bcfee187efe93f0e%29%3B%0A%20%20%20%20%20%20%20%20%0A%20%20%20%20%0A%20%20%20%20%20%20%20%20%20%20%20%20var%20icon_0668ad440fac4121a507e674f1b30631%20%3D%20L.AwesomeMarkers.icon%28%0A%20%20%20%20%20%20%20%20%20%20%20%20%20%20%20%20%7B%22extraClasses%22%3A%20%22fa-rotate-0%22%2C%20%22icon%22%3A%20%22truck%22%2C%20%22iconColor%22%3A%20%22white%22%2C%20%22markerColor%22%3A%20%22green%22%2C%20%22prefix%22%3A%20%22fa%22%7D%0A%20%20%20%20%20%20%20%20%20%20%20%20%29%3B%0A%20%20%20%20%20%20%20%20%20%20%20%20marker_7289f782c39f4590848d65242c09a3b0.setIcon%28icon_0668ad440fac4121a507e674f1b30631%29%3B%0A%20%20%20%20%20%20%20%20%0A%20%20%20%20%0A%20%20%20%20%20%20%20%20var%20popup_da7c5b0fe5de4429b5d960873b09fe58%20%3D%20L.popup%28%7B%22maxWidth%22%3A%20%22100%25%22%7D%29%3B%0A%0A%20%20%20%20%20%20%20%20%0A%20%20%20%20%20%20%20%20%20%20%20%20var%20html_7071b8a9cbd745db8a5109e0fa9835bb%20%3D%20%24%28%60%3Cdiv%20id%3D%22html_7071b8a9cbd745db8a5109e0fa9835bb%22%20style%3D%22width%3A%20100.0%25%3B%20height%3A%20100.0%25%3B%22%3EZONA%20DE%20REPARTO%3C/div%3E%60%29%5B0%5D%3B%0A%20%20%20%20%20%20%20%20%20%20%20%20popup_da7c5b0fe5de4429b5d960873b09fe58.setContent%28html_7071b8a9cbd745db8a5109e0fa9835bb%29%3B%0A%20%20%20%20%20%20%20%20%0A%0A%20%20%20%20%20%20%20%20marker_7289f782c39f4590848d65242c09a3b0.bindPopup%28popup_da7c5b0fe5de4429b5d960873b09fe58%29%0A%20%20%20%20%20%20%20%20%3B%0A%0A%20%20%20%20%20%20%20%20%0A%20%20%20%20%0A%20%20%20%20%0A%20%20%20%20%20%20%20%20%20%20%20%20var%20marker_9fe69f6d177d48f587f3e2d6952cd2f1%20%3D%20L.marker%28%0A%20%20%20%20%20%20%20%20%20%20%20%20%20%20%20%20%5B-12.047362913132519%2C%20-77.12649612188682%5D%2C%0A%20%20%20%20%20%20%20%20%20%20%20%20%20%20%20%20%7B%7D%0A%20%20%20%20%20%20%20%20%20%20%20%20%29.addTo%28map_f92d8fb7fb2f4d90bcfee187efe93f0e%29%3B%0A%20%20%20%20%20%20%20%20%0A%20%20%20%20%0A%20%20%20%20%20%20%20%20%20%20%20%20var%20icon_52b0d3f0809c4deabef6745b3d3ec0fc%20%3D%20L.AwesomeMarkers.icon%28%0A%20%20%20%20%20%20%20%20%20%20%20%20%20%20%20%20%7B%22extraClasses%22%3A%20%22fa-rotate-0%22%2C%20%22icon%22%3A%20%22home%22%2C%20%22iconColor%22%3A%20%22white%22%2C%20%22markerColor%22%3A%20%22red%22%2C%20%22prefix%22%3A%20%22fa%22%7D%0A%20%20%20%20%20%20%20%20%20%20%20%20%29%3B%0A%20%20%20%20%20%20%20%20%20%20%20%20marker_9fe69f6d177d48f587f3e2d6952cd2f1.setIcon%28icon_52b0d3f0809c4deabef6745b3d3ec0fc%29%3B%0A%20%20%20%20%20%20%20%20%0A%20%20%20%20%0A%20%20%20%20%20%20%20%20var%20popup_3d3b9e58266e4581a06a6a72a2683775%20%3D%20L.popup%28%7B%22maxWidth%22%3A%20%22100%25%22%7D%29%3B%0A%0A%20%20%20%20%20%20%20%20%0A%20%20%20%20%20%20%20%20%20%20%20%20var%20html_09a3a939243c445ebb50c509ddd425fb%20%3D%20%24%28%60%3Cdiv%20id%3D%22html_09a3a939243c445ebb50c509ddd425fb%22%20style%3D%22width%3A%20100.0%25%3B%20height%3A%20100.0%25%3B%22%3EPunto%204%3C/div%3E%60%29%5B0%5D%3B%0A%20%20%20%20%20%20%20%20%20%20%20%20popup_3d3b9e58266e4581a06a6a72a2683775.setContent%28html_09a3a939243c445ebb50c509ddd425fb%29%3B%0A%20%20%20%20%20%20%20%20%0A%0A%20%20%20%20%20%20%20%20marker_9fe69f6d177d48f587f3e2d6952cd2f1.bindPopup%28popup_3d3b9e58266e4581a06a6a72a2683775%29%0A%20%20%20%20%20%20%20%20%3B%0A%0A%20%20%20%20%20%20%20%20%0A%20%20%20%20%0A%20%20%20%20%0A%20%20%20%20%20%20%20%20%20%20%20%20var%20marker_8990bd108245462cbaef25ee241d2505%20%3D%20L.marker%28%0A%20%20%20%20%20%20%20%20%20%20%20%20%20%20%20%20%5B-12.055286215862173%2C%20-77.03761770324066%5D%2C%0A%20%20%20%20%20%20%20%20%20%20%20%20%20%20%20%20%7B%7D%0A%20%20%20%20%20%20%20%20%20%20%20%20%29.addTo%28map_f92d8fb7fb2f4d90bcfee187efe93f0e%29%3B%0A%20%20%20%20%20%20%20%20%0A%20%20%20%20%0A%20%20%20%20%20%20%20%20%20%20%20%20var%20icon_e5505de4598044fdad637ee379a366f8%20%3D%20L.AwesomeMarkers.icon%28%0A%20%20%20%20%20%20%20%20%20%20%20%20%20%20%20%20%7B%22extraClasses%22%3A%20%22fa-rotate-0%22%2C%20%22icon%22%3A%20%22truck%22%2C%20%22iconColor%22%3A%20%22white%22%2C%20%22markerColor%22%3A%20%22green%22%2C%20%22prefix%22%3A%20%22fa%22%7D%0A%20%20%20%20%20%20%20%20%20%20%20%20%29%3B%0A%20%20%20%20%20%20%20%20%20%20%20%20marker_8990bd108245462cbaef25ee241d2505.setIcon%28icon_e5505de4598044fdad637ee379a366f8%29%3B%0A%20%20%20%20%20%20%20%20%0A%20%20%20%20%0A%20%20%20%20%20%20%20%20var%20popup_9f720d4ca2fe408faf9b455bae690e34%20%3D%20L.popup%28%7B%22maxWidth%22%3A%20%22100%25%22%7D%29%3B%0A%0A%20%20%20%20%20%20%20%20%0A%20%20%20%20%20%20%20%20%20%20%20%20var%20html_c703ac78ccc948dfb8f6b2009a23fa07%20%3D%20%24%28%60%3Cdiv%20id%3D%22html_c703ac78ccc948dfb8f6b2009a23fa07%22%20style%3D%22width%3A%20100.0%25%3B%20height%3A%20100.0%25%3B%22%3EZONA%20DE%20REPARTO%3C/div%3E%60%29%5B0%5D%3B%0A%20%20%20%20%20%20%20%20%20%20%20%20popup_9f720d4ca2fe408faf9b455bae690e34.setContent%28html_c703ac78ccc948dfb8f6b2009a23fa07%29%3B%0A%20%20%20%20%20%20%20%20%0A%0A%20%20%20%20%20%20%20%20marker_8990bd108245462cbaef25ee241d2505.bindPopup%28popup_9f720d4ca2fe408faf9b455bae690e34%29%0A%20%20%20%20%20%20%20%20%3B%0A%0A%20%20%20%20%20%20%20%20%0A%20%20%20%20%0A%20%20%20%20%0A%20%20%20%20%20%20%20%20%20%20%20%20var%20marker_4ee382d248af4c699d2cdf1e667c3e46%20%3D%20L.marker%28%0A%20%20%20%20%20%20%20%20%20%20%20%20%20%20%20%20%5B-12.165407596126173%2C%20-76.96328741326177%5D%2C%0A%20%20%20%20%20%20%20%20%20%20%20%20%20%20%20%20%7B%7D%0A%20%20%20%20%20%20%20%20%20%20%20%20%29.addTo%28map_f92d8fb7fb2f4d90bcfee187efe93f0e%29%3B%0A%20%20%20%20%20%20%20%20%0A%20%20%20%20%0A%20%20%20%20%20%20%20%20%20%20%20%20var%20icon_2d003d8e795b411aa6896c1e169c6d56%20%3D%20L.AwesomeMarkers.icon%28%0A%20%20%20%20%20%20%20%20%20%20%20%20%20%20%20%20%7B%22extraClasses%22%3A%20%22fa-rotate-0%22%2C%20%22icon%22%3A%20%22home%22%2C%20%22iconColor%22%3A%20%22white%22%2C%20%22markerColor%22%3A%20%22red%22%2C%20%22prefix%22%3A%20%22fa%22%7D%0A%20%20%20%20%20%20%20%20%20%20%20%20%29%3B%0A%20%20%20%20%20%20%20%20%20%20%20%20marker_4ee382d248af4c699d2cdf1e667c3e46.setIcon%28icon_2d003d8e795b411aa6896c1e169c6d56%29%3B%0A%20%20%20%20%20%20%20%20%0A%20%20%20%20%0A%20%20%20%20%20%20%20%20var%20popup_6158471220804114843d5d9e7ba8bf16%20%3D%20L.popup%28%7B%22maxWidth%22%3A%20%22100%25%22%7D%29%3B%0A%0A%20%20%20%20%20%20%20%20%0A%20%20%20%20%20%20%20%20%20%20%20%20var%20html_e30f62416faf407398aa542441e6c51a%20%3D%20%24%28%60%3Cdiv%20id%3D%22html_e30f62416faf407398aa542441e6c51a%22%20style%3D%22width%3A%20100.0%25%3B%20height%3A%20100.0%25%3B%22%3EPunto%205%3C/div%3E%60%29%5B0%5D%3B%0A%20%20%20%20%20%20%20%20%20%20%20%20popup_6158471220804114843d5d9e7ba8bf16.setContent%28html_e30f62416faf407398aa542441e6c51a%29%3B%0A%20%20%20%20%20%20%20%20%0A%0A%20%20%20%20%20%20%20%20marker_4ee382d248af4c699d2cdf1e667c3e46.bindPopup%28popup_6158471220804114843d5d9e7ba8bf16%29%0A%20%20%20%20%20%20%20%20%3B%0A%0A%20%20%20%20%20%20%20%20%0A%20%20%20%20%0A%20%20%20%20%0A%20%20%20%20%20%20%20%20%20%20%20%20var%20marker_55f5ad66e45e46ffa00e202b70a29345%20%3D%20L.marker%28%0A%20%20%20%20%20%20%20%20%20%20%20%20%20%20%20%20%5B-12.055286215862173%2C%20-77.03761770324066%5D%2C%0A%20%20%20%20%20%20%20%20%20%20%20%20%20%20%20%20%7B%7D%0A%20%20%20%20%20%20%20%20%20%20%20%20%29.addTo%28map_f92d8fb7fb2f4d90bcfee187efe93f0e%29%3B%0A%20%20%20%20%20%20%20%20%0A%20%20%20%20%0A%20%20%20%20%20%20%20%20%20%20%20%20var%20icon_990c7547f39944a9b81255656a6b40b3%20%3D%20L.AwesomeMarkers.icon%28%0A%20%20%20%20%20%20%20%20%20%20%20%20%20%20%20%20%7B%22extraClasses%22%3A%20%22fa-rotate-0%22%2C%20%22icon%22%3A%20%22truck%22%2C%20%22iconColor%22%3A%20%22white%22%2C%20%22markerColor%22%3A%20%22green%22%2C%20%22prefix%22%3A%20%22fa%22%7D%0A%20%20%20%20%20%20%20%20%20%20%20%20%29%3B%0A%20%20%20%20%20%20%20%20%20%20%20%20marker_55f5ad66e45e46ffa00e202b70a29345.setIcon%28icon_990c7547f39944a9b81255656a6b40b3%29%3B%0A%20%20%20%20%20%20%20%20%0A%20%20%20%20%0A%20%20%20%20%20%20%20%20var%20popup_dc7b48a887bb45c9959b9b68006a931c%20%3D%20L.popup%28%7B%22maxWidth%22%3A%20%22100%25%22%7D%29%3B%0A%0A%20%20%20%20%20%20%20%20%0A%20%20%20%20%20%20%20%20%20%20%20%20var%20html_f66e446dbce6450f9bdf0376068bc532%20%3D%20%24%28%60%3Cdiv%20id%3D%22html_f66e446dbce6450f9bdf0376068bc532%22%20style%3D%22width%3A%20100.0%25%3B%20height%3A%20100.0%25%3B%22%3EZONA%20DE%20REPARTO%3C/div%3E%60%29%5B0%5D%3B%0A%20%20%20%20%20%20%20%20%20%20%20%20popup_dc7b48a887bb45c9959b9b68006a931c.setContent%28html_f66e446dbce6450f9bdf0376068bc532%29%3B%0A%20%20%20%20%20%20%20%20%0A%0A%20%20%20%20%20%20%20%20marker_55f5ad66e45e46ffa00e202b70a29345.bindPopup%28popup_dc7b48a887bb45c9959b9b68006a931c%29%0A%20%20%20%20%20%20%20%20%3B%0A%0A%20%20%20%20%20%20%20%20%0A%20%20%20%20%0A%20%20%20%20%0A%20%20%20%20%20%20%20%20%20%20%20%20var%20marker_e4a2195f58064bbeb9e5c52bd76b5a7f%20%3D%20L.marker%28%0A%20%20%20%20%20%20%20%20%20%20%20%20%20%20%20%20%5B-12.022785437170445%2C%20-76.89412395721087%5D%2C%0A%20%20%20%20%20%20%20%20%20%20%20%20%20%20%20%20%7B%7D%0A%20%20%20%20%20%20%20%20%20%20%20%20%29.addTo%28map_f92d8fb7fb2f4d90bcfee187efe93f0e%29%3B%0A%20%20%20%20%20%20%20%20%0A%20%20%20%20%0A%20%20%20%20%20%20%20%20%20%20%20%20var%20icon_2a71313dfb7c48e18ab6b65249c78c1d%20%3D%20L.AwesomeMarkers.icon%28%0A%20%20%20%20%20%20%20%20%20%20%20%20%20%20%20%20%7B%22extraClasses%22%3A%20%22fa-rotate-0%22%2C%20%22icon%22%3A%20%22home%22%2C%20%22iconColor%22%3A%20%22white%22%2C%20%22markerColor%22%3A%20%22red%22%2C%20%22prefix%22%3A%20%22fa%22%7D%0A%20%20%20%20%20%20%20%20%20%20%20%20%29%3B%0A%20%20%20%20%20%20%20%20%20%20%20%20marker_e4a2195f58064bbeb9e5c52bd76b5a7f.setIcon%28icon_2a71313dfb7c48e18ab6b65249c78c1d%29%3B%0A%20%20%20%20%20%20%20%20%0A%20%20%20%20%0A%20%20%20%20%20%20%20%20var%20popup_2de1f43e32314155bca57cf6d97e2f6f%20%3D%20L.popup%28%7B%22maxWidth%22%3A%20%22100%25%22%7D%29%3B%0A%0A%20%20%20%20%20%20%20%20%0A%20%20%20%20%20%20%20%20%20%20%20%20var%20html_00d987ea0c454fbd8e5861de13c6aeca%20%3D%20%24%28%60%3Cdiv%20id%3D%22html_00d987ea0c454fbd8e5861de13c6aeca%22%20style%3D%22width%3A%20100.0%25%3B%20height%3A%20100.0%25%3B%22%3EPunto%206%3C/div%3E%60%29%5B0%5D%3B%0A%20%20%20%20%20%20%20%20%20%20%20%20popup_2de1f43e32314155bca57cf6d97e2f6f.setContent%28html_00d987ea0c454fbd8e5861de13c6aeca%29%3B%0A%20%20%20%20%20%20%20%20%0A%0A%20%20%20%20%20%20%20%20marker_e4a2195f58064bbeb9e5c52bd76b5a7f.bindPopup%28popup_2de1f43e32314155bca57cf6d97e2f6f%29%0A%20%20%20%20%20%20%20%20%3B%0A%0A%20%20%20%20%20%20%20%20%0A%20%20%20%20%0A%20%20%20%20%0A%20%20%20%20%20%20%20%20%20%20%20%20var%20marker_ae54ac91815044618f7a3ff6338a7b86%20%3D%20L.marker%28%0A%20%20%20%20%20%20%20%20%20%20%20%20%20%20%20%20%5B-12.055286215862173%2C%20-77.03761770324066%5D%2C%0A%20%20%20%20%20%20%20%20%20%20%20%20%20%20%20%20%7B%7D%0A%20%20%20%20%20%20%20%20%20%20%20%20%29.addTo%28map_f92d8fb7fb2f4d90bcfee187efe93f0e%29%3B%0A%20%20%20%20%20%20%20%20%0A%20%20%20%20%0A%20%20%20%20%20%20%20%20%20%20%20%20var%20icon_db300ef7cf77416eabe02a6db2b97c89%20%3D%20L.AwesomeMarkers.icon%28%0A%20%20%20%20%20%20%20%20%20%20%20%20%20%20%20%20%7B%22extraClasses%22%3A%20%22fa-rotate-0%22%2C%20%22icon%22%3A%20%22truck%22%2C%20%22iconColor%22%3A%20%22white%22%2C%20%22markerColor%22%3A%20%22green%22%2C%20%22prefix%22%3A%20%22fa%22%7D%0A%20%20%20%20%20%20%20%20%20%20%20%20%29%3B%0A%20%20%20%20%20%20%20%20%20%20%20%20marker_ae54ac91815044618f7a3ff6338a7b86.setIcon%28icon_db300ef7cf77416eabe02a6db2b97c89%29%3B%0A%20%20%20%20%20%20%20%20%0A%20%20%20%20%0A%20%20%20%20%20%20%20%20var%20popup_be7f816ec09d48a088e29f3a24340eb8%20%3D%20L.popup%28%7B%22maxWidth%22%3A%20%22100%25%22%7D%29%3B%0A%0A%20%20%20%20%20%20%20%20%0A%20%20%20%20%20%20%20%20%20%20%20%20var%20html_ed38e349affa4bb89359287b1075c640%20%3D%20%24%28%60%3Cdiv%20id%3D%22html_ed38e349affa4bb89359287b1075c640%22%20style%3D%22width%3A%20100.0%25%3B%20height%3A%20100.0%25%3B%22%3EZONA%20DE%20REPARTO%3C/div%3E%60%29%5B0%5D%3B%0A%20%20%20%20%20%20%20%20%20%20%20%20popup_be7f816ec09d48a088e29f3a24340eb8.setContent%28html_ed38e349affa4bb89359287b1075c640%29%3B%0A%20%20%20%20%20%20%20%20%0A%0A%20%20%20%20%20%20%20%20marker_ae54ac91815044618f7a3ff6338a7b86.bindPopup%28popup_be7f816ec09d48a088e29f3a24340eb8%29%0A%20%20%20%20%20%20%20%20%3B%0A%0A%20%20%20%20%20%20%20%20%0A%20%20%20%20%0A%20%20%20%20%0A%20%20%20%20%20%20%20%20%20%20%20%20var%20marker_8032e05930974d15ab173ace4da35cc7%20%3D%20L.marker%28%0A%20%20%20%20%20%20%20%20%20%20%20%20%20%20%20%20%5B-12.114866761848441%2C%20-77.03982184054135%5D%2C%0A%20%20%20%20%20%20%20%20%20%20%20%20%20%20%20%20%7B%7D%0A%20%20%20%20%20%20%20%20%20%20%20%20%29.addTo%28map_f92d8fb7fb2f4d90bcfee187efe93f0e%29%3B%0A%20%20%20%20%20%20%20%20%0A%20%20%20%20%0A%20%20%20%20%20%20%20%20%20%20%20%20var%20icon_8dbd04d7b8644f65b10dbf9737612ac0%20%3D%20L.AwesomeMarkers.icon%28%0A%20%20%20%20%20%20%20%20%20%20%20%20%20%20%20%20%7B%22extraClasses%22%3A%20%22fa-rotate-0%22%2C%20%22icon%22%3A%20%22home%22%2C%20%22iconColor%22%3A%20%22white%22%2C%20%22markerColor%22%3A%20%22red%22%2C%20%22prefix%22%3A%20%22fa%22%7D%0A%20%20%20%20%20%20%20%20%20%20%20%20%29%3B%0A%20%20%20%20%20%20%20%20%20%20%20%20marker_8032e05930974d15ab173ace4da35cc7.setIcon%28icon_8dbd04d7b8644f65b10dbf9737612ac0%29%3B%0A%20%20%20%20%20%20%20%20%0A%20%20%20%20%0A%20%20%20%20%20%20%20%20var%20popup_5017b9138d7642659e057ae62d996728%20%3D%20L.popup%28%7B%22maxWidth%22%3A%20%22100%25%22%7D%29%3B%0A%0A%20%20%20%20%20%20%20%20%0A%20%20%20%20%20%20%20%20%20%20%20%20var%20html_630c031f24a3441fa1834c7b03eaf7df%20%3D%20%24%28%60%3Cdiv%20id%3D%22html_630c031f24a3441fa1834c7b03eaf7df%22%20style%3D%22width%3A%20100.0%25%3B%20height%3A%20100.0%25%3B%22%3EPunto%207%3C/div%3E%60%29%5B0%5D%3B%0A%20%20%20%20%20%20%20%20%20%20%20%20popup_5017b9138d7642659e057ae62d996728.setContent%28html_630c031f24a3441fa1834c7b03eaf7df%29%3B%0A%20%20%20%20%20%20%20%20%0A%0A%20%20%20%20%20%20%20%20marker_8032e05930974d15ab173ace4da35cc7.bindPopup%28popup_5017b9138d7642659e057ae62d996728%29%0A%20%20%20%20%20%20%20%20%3B%0A%0A%20%20%20%20%20%20%20%20%0A%20%20%20%20%0A%20%20%20%20%0A%20%20%20%20%20%20%20%20%20%20%20%20var%20marker_9318e324a10e4a63a8a19bbc0ec9ad31%20%3D%20L.marker%28%0A%20%20%20%20%20%20%20%20%20%20%20%20%20%20%20%20%5B-12.055286215862173%2C%20-77.03761770324066%5D%2C%0A%20%20%20%20%20%20%20%20%20%20%20%20%20%20%20%20%7B%7D%0A%20%20%20%20%20%20%20%20%20%20%20%20%29.addTo%28map_f92d8fb7fb2f4d90bcfee187efe93f0e%29%3B%0A%20%20%20%20%20%20%20%20%0A%20%20%20%20%0A%20%20%20%20%20%20%20%20%20%20%20%20var%20icon_a324d2427db5446f949e13b8f5ef9e9d%20%3D%20L.AwesomeMarkers.icon%28%0A%20%20%20%20%20%20%20%20%20%20%20%20%20%20%20%20%7B%22extraClasses%22%3A%20%22fa-rotate-0%22%2C%20%22icon%22%3A%20%22truck%22%2C%20%22iconColor%22%3A%20%22white%22%2C%20%22markerColor%22%3A%20%22green%22%2C%20%22prefix%22%3A%20%22fa%22%7D%0A%20%20%20%20%20%20%20%20%20%20%20%20%29%3B%0A%20%20%20%20%20%20%20%20%20%20%20%20marker_9318e324a10e4a63a8a19bbc0ec9ad31.setIcon%28icon_a324d2427db5446f949e13b8f5ef9e9d%29%3B%0A%20%20%20%20%20%20%20%20%0A%20%20%20%20%0A%20%20%20%20%20%20%20%20var%20popup_37801d57878c44a88c6103ebd48f6329%20%3D%20L.popup%28%7B%22maxWidth%22%3A%20%22100%25%22%7D%29%3B%0A%0A%20%20%20%20%20%20%20%20%0A%20%20%20%20%20%20%20%20%20%20%20%20var%20html_f3a502bbd9b04a7cb5f50f0f680377df%20%3D%20%24%28%60%3Cdiv%20id%3D%22html_f3a502bbd9b04a7cb5f50f0f680377df%22%20style%3D%22width%3A%20100.0%25%3B%20height%3A%20100.0%25%3B%22%3EZONA%20DE%20REPARTO%3C/div%3E%60%29%5B0%5D%3B%0A%20%20%20%20%20%20%20%20%20%20%20%20popup_37801d57878c44a88c6103ebd48f6329.setContent%28html_f3a502bbd9b04a7cb5f50f0f680377df%29%3B%0A%20%20%20%20%20%20%20%20%0A%0A%20%20%20%20%20%20%20%20marker_9318e324a10e4a63a8a19bbc0ec9ad31.bindPopup%28popup_37801d57878c44a88c6103ebd48f6329%29%0A%20%20%20%20%20%20%20%20%3B%0A%0A%20%20%20%20%20%20%20%20%0A%20%20%20%20%0A%20%20%20%20%0A%20%20%20%20%20%20%20%20%20%20%20%20var%20marker_9c723799dd48405aacb9e0115a0550d9%20%3D%20L.marker%28%0A%20%20%20%20%20%20%20%20%20%20%20%20%20%20%20%20%5B-12.243772882472243%2C%20-76.91589482960883%5D%2C%0A%20%20%20%20%20%20%20%20%20%20%20%20%20%20%20%20%7B%7D%0A%20%20%20%20%20%20%20%20%20%20%20%20%29.addTo%28map_f92d8fb7fb2f4d90bcfee187efe93f0e%29%3B%0A%20%20%20%20%20%20%20%20%0A%20%20%20%20%0A%20%20%20%20%20%20%20%20%20%20%20%20var%20icon_558cc771df314af19330f0dbb912d2df%20%3D%20L.AwesomeMarkers.icon%28%0A%20%20%20%20%20%20%20%20%20%20%20%20%20%20%20%20%7B%22extraClasses%22%3A%20%22fa-rotate-0%22%2C%20%22icon%22%3A%20%22home%22%2C%20%22iconColor%22%3A%20%22white%22%2C%20%22markerColor%22%3A%20%22red%22%2C%20%22prefix%22%3A%20%22fa%22%7D%0A%20%20%20%20%20%20%20%20%20%20%20%20%29%3B%0A%20%20%20%20%20%20%20%20%20%20%20%20marker_9c723799dd48405aacb9e0115a0550d9.setIcon%28icon_558cc771df314af19330f0dbb912d2df%29%3B%0A%20%20%20%20%20%20%20%20%0A%20%20%20%20%0A%20%20%20%20%20%20%20%20var%20popup_ab9f9cf74f794ec1bd7a224e0b4ee933%20%3D%20L.popup%28%7B%22maxWidth%22%3A%20%22100%25%22%7D%29%3B%0A%0A%20%20%20%20%20%20%20%20%0A%20%20%20%20%20%20%20%20%20%20%20%20var%20html_9db8272784ed4acb98bd83835e28d7e7%20%3D%20%24%28%60%3Cdiv%20id%3D%22html_9db8272784ed4acb98bd83835e28d7e7%22%20style%3D%22width%3A%20100.0%25%3B%20height%3A%20100.0%25%3B%22%3EPunto%208%3C/div%3E%60%29%5B0%5D%3B%0A%20%20%20%20%20%20%20%20%20%20%20%20popup_ab9f9cf74f794ec1bd7a224e0b4ee933.setContent%28html_9db8272784ed4acb98bd83835e28d7e7%29%3B%0A%20%20%20%20%20%20%20%20%0A%0A%20%20%20%20%20%20%20%20marker_9c723799dd48405aacb9e0115a0550d9.bindPopup%28popup_ab9f9cf74f794ec1bd7a224e0b4ee933%29%0A%20%20%20%20%20%20%20%20%3B%0A%0A%20%20%20%20%20%20%20%20%0A%20%20%20%20%0A%20%20%20%20%0A%20%20%20%20%20%20%20%20%20%20%20%20var%20marker_fdb5c22ec6904b69b5d03a0654f5016b%20%3D%20L.marker%28%0A%20%20%20%20%20%20%20%20%20%20%20%20%20%20%20%20%5B-12.055286215862173%2C%20-77.03761770324066%5D%2C%0A%20%20%20%20%20%20%20%20%20%20%20%20%20%20%20%20%7B%7D%0A%20%20%20%20%20%20%20%20%20%20%20%20%29.addTo%28map_f92d8fb7fb2f4d90bcfee187efe93f0e%29%3B%0A%20%20%20%20%20%20%20%20%0A%20%20%20%20%0A%20%20%20%20%20%20%20%20%20%20%20%20var%20icon_b7886756bb044c6599c783d53d6e8ca7%20%3D%20L.AwesomeMarkers.icon%28%0A%20%20%20%20%20%20%20%20%20%20%20%20%20%20%20%20%7B%22extraClasses%22%3A%20%22fa-rotate-0%22%2C%20%22icon%22%3A%20%22truck%22%2C%20%22iconColor%22%3A%20%22white%22%2C%20%22markerColor%22%3A%20%22green%22%2C%20%22prefix%22%3A%20%22fa%22%7D%0A%20%20%20%20%20%20%20%20%20%20%20%20%29%3B%0A%20%20%20%20%20%20%20%20%20%20%20%20marker_fdb5c22ec6904b69b5d03a0654f5016b.setIcon%28icon_b7886756bb044c6599c783d53d6e8ca7%29%3B%0A%20%20%20%20%20%20%20%20%0A%20%20%20%20%0A%20%20%20%20%20%20%20%20var%20popup_b0cc2762b1924c798a1daf03fabdd678%20%3D%20L.popup%28%7B%22maxWidth%22%3A%20%22100%25%22%7D%29%3B%0A%0A%20%20%20%20%20%20%20%20%0A%20%20%20%20%20%20%20%20%20%20%20%20var%20html_7541e7ebb3fa4005a0cfe2dce865ee63%20%3D%20%24%28%60%3Cdiv%20id%3D%22html_7541e7ebb3fa4005a0cfe2dce865ee63%22%20style%3D%22width%3A%20100.0%25%3B%20height%3A%20100.0%25%3B%22%3EZONA%20DE%20REPARTO%3C/div%3E%60%29%5B0%5D%3B%0A%20%20%20%20%20%20%20%20%20%20%20%20popup_b0cc2762b1924c798a1daf03fabdd678.setContent%28html_7541e7ebb3fa4005a0cfe2dce865ee63%29%3B%0A%20%20%20%20%20%20%20%20%0A%0A%20%20%20%20%20%20%20%20marker_fdb5c22ec6904b69b5d03a0654f5016b.bindPopup%28popup_b0cc2762b1924c798a1daf03fabdd678%29%0A%20%20%20%20%20%20%20%20%3B%0A%0A%20%20%20%20%20%20%20%20%0A%20%20%20%20%0A%3C/script%3E onload=\"this.contentDocument.open();this.contentDocument.write(    decodeURIComponent(this.getAttribute('data-html')));this.contentDocument.close();\" allowfullscreen webkitallowfullscreen mozallowfullscreen></iframe></div></div>"
      ],
      "text/plain": [
       "<folium.folium.Map at 0x22d3ed2ba90>"
      ]
     },
     "execution_count": 4,
     "metadata": {},
     "output_type": "execute_result"
    }
   ],
   "source": [
    "import folium\n",
    "from folium import Marker\n",
    "\n",
    "m = folium.Map(location=[-12.047209, -77.069313], tiles='openstreetmap', zoom_start=11)\n",
    "for node in [n for n in nodes if n.index != 0]:\n",
    " Marker(location= [node.lat, node.long], icon= (folium.Icon(color='red', icon='home', prefix='fa'))).add_child(\n",
    "    folium.Popup('Punto {}'.format(node.index))).add_to(m)\n",
    "\n",
    " Marker(location= [nodes[0].lat,nodes[0].long], icon= (folium.Icon(color='green', icon='truck', prefix='fa'))).add_child(\n",
    "    folium.Popup('ZONA DE REPARTO')).add_to(m)\n",
    "m"
   ]
  },
  {
   "cell_type": "code",
   "execution_count": 5,
   "metadata": {},
   "outputs": [
    {
     "data": {
      "text/plain": [
       "[[0.0,\n",
       "  20.0,\n",
       "  17.599999999999998,\n",
       "  9.0,\n",
       "  8.9,\n",
       "  13.3,\n",
       "  14.7,\n",
       "  6.0,\n",
       "  22.400000000000002],\n",
       " [20.0, 0.0, 6.5, 13.0, 19.2, 32.7, 24.9, 25.8, 41.8],\n",
       " [17.599999999999998,\n",
       "  6.5,\n",
       "  0.0,\n",
       "  13.4,\n",
       "  19.8,\n",
       "  29.099999999999998,\n",
       "  19.1,\n",
       "  23.5,\n",
       "  37.8],\n",
       " [9.0, 13.0, 13.4, 0.0, 6.4, 22.2, 20.7, 13.8, 31.3],\n",
       " [8.9,\n",
       "  19.2,\n",
       "  19.8,\n",
       "  6.4,\n",
       "  0.0,\n",
       "  20.1,\n",
       "  23.400000000000002,\n",
       "  11.0,\n",
       "  28.799999999999997],\n",
       " [13.3, 32.7, 29.099999999999998, 22.2, 20.1, 0.0, 15.9, 9.2, 9.2],\n",
       " [14.7, 24.9, 19.1, 20.7, 23.400000000000002, 15.9, 0.0, 17.2, 22.2],\n",
       " [6.0, 25.8, 23.5, 13.8, 11.0, 9.2, 17.2, 0.0, 17.9],\n",
       " [22.400000000000002,\n",
       "  41.8,\n",
       "  37.8,\n",
       "  31.3,\n",
       "  28.799999999999997,\n",
       "  9.2,\n",
       "  22.2,\n",
       "  17.9,\n",
       "  0.0]]"
      ]
     },
     "execution_count": 5,
     "metadata": {},
     "output_type": "execute_result"
    }
   ],
   "source": [
    "\n",
    "times = [[round(((node_origin.lat - node_destin.lat)**2 + \n",
    "    (node_origin.long - node_destin.long)**2)**(1/2),3)*100 \n",
    "    for node_destin in nodes] for node_origin in nodes]\n",
    "times"
   ]
  },
  {
   "cell_type": "code",
   "execution_count": 6,
   "metadata": {},
   "outputs": [],
   "source": [
    "mod = build_VRPTW_problem(capacity, nodes, times, vehicles)"
   ]
  },
  {
   "cell_type": "code",
   "execution_count": 7,
   "metadata": {
    "scrolled": true
   },
   "outputs": [
    {
     "name": "stdout",
     "output_type": "stream",
     "text": [
      "solution for: VRPTW\n",
      "objective: 131\n",
      "route_1_Customer <0>_Customer <5>=1\n",
      "route_1_Customer <5>_Customer <8>=1\n",
      "route_1_Customer <7>_Customer <0>=1\n",
      "route_1_Customer <8>_Customer <7>=1\n",
      "route_2_Customer <0>_Customer <1>=1\n",
      "route_2_Customer <1>_Customer <2>=1\n",
      "route_2_Customer <2>_Customer <6>=1\n",
      "route_2_Customer <6>_Customer <0>=1\n",
      "route_3_Customer <0>_Customer <3>=1\n",
      "route_3_Customer <3>_Customer <4>=1\n",
      "route_3_Customer <4>_Customer <0>=1\n",
      "service_time_1_Customer <1>=-0.000\n",
      "service_time_1_Customer <2>=20.000\n",
      "service_time_1_Customer <3>=40.000\n",
      "service_time_1_Customer <5>=61.100\n",
      "service_time_1_Customer <6>=80.000\n",
      "service_time_1_Customer <7>=100.900\n",
      "service_time_1_Customer <8>=80.000\n",
      "service_time_2_Customer <1>=20.000\n",
      "service_time_2_Customer <2>=29.500\n",
      "service_time_2_Customer <3>=40.000\n",
      "service_time_2_Customer <5>=61.100\n",
      "service_time_2_Customer <6>=80.000\n",
      "service_time_2_Customer <7>=80.000\n",
      "service_time_2_Customer <8>=80.000\n",
      "service_time_3_Customer <1>=-0.000\n",
      "service_time_3_Customer <2>=20.000\n",
      "service_time_3_Customer <3>=40.000\n",
      "service_time_3_Customer <4>=69.400\n",
      "service_time_3_Customer <5>=61.100\n",
      "service_time_3_Customer <6>=80.000\n",
      "service_time_3_Customer <7>=80.000\n",
      "service_time_3_Customer <8>=80.000\n",
      "\n"
     ]
    }
   ],
   "source": [
    "import json \n",
    "sol = mod.solve()\n",
    "print (sol)\n"
   ]
  },
  {
   "cell_type": "code",
   "execution_count": 8,
   "metadata": {},
   "outputs": [
    {
     "data": {
      "text/plain": [
       "[{'index': '5', 'name': 'route_1_Customer <0>_Customer <5>', 'value': '1.0'},\n",
       " {'index': '53', 'name': 'route_1_Customer <5>_Customer <8>', 'value': '1.0'},\n",
       " {'index': '63', 'name': 'route_1_Customer <7>_Customer <0>', 'value': '1.0'},\n",
       " {'index': '79', 'name': 'route_1_Customer <8>_Customer <7>', 'value': '1.0'},\n",
       " {'index': '82', 'name': 'route_2_Customer <0>_Customer <1>', 'value': '1.0'},\n",
       " {'index': '92', 'name': 'route_2_Customer <1>_Customer <2>', 'value': '1.0'},\n",
       " {'index': '105', 'name': 'route_2_Customer <2>_Customer <6>', 'value': '1.0'},\n",
       " {'index': '135', 'name': 'route_2_Customer <6>_Customer <0>', 'value': '1.0'},\n",
       " {'index': '165', 'name': 'route_3_Customer <0>_Customer <3>', 'value': '1.0'},\n",
       " {'index': '193', 'name': 'route_3_Customer <3>_Customer <4>', 'value': '1.0'},\n",
       " {'index': '198', 'name': 'route_3_Customer <4>_Customer <0>', 'value': '1.0'},\n",
       " {'index': '244',\n",
       "  'name': 'service_time_1_Customer <1>',\n",
       "  'value': '-2.2737367544323206e-13'},\n",
       " {'index': '245', 'name': 'service_time_1_Customer <2>', 'value': '20.0'},\n",
       " {'index': '246', 'name': 'service_time_1_Customer <3>', 'value': '40.0'},\n",
       " {'index': '248',\n",
       "  'name': 'service_time_1_Customer <5>',\n",
       "  'value': '61.09999999999998'},\n",
       " {'index': '249', 'name': 'service_time_1_Customer <6>', 'value': '80.0'}]"
      ]
     },
     "execution_count": 8,
     "metadata": {},
     "output_type": "execute_result"
    }
   ],
   "source": [
    "sol_dict = json.loads(sol.export_as_json_string())\n",
    "\n",
    "sol_dict['CPLEXSolution']['variables'][0:16]\n"
   ]
  },
  {
   "cell_type": "code",
   "execution_count": null,
   "metadata": {},
   "outputs": [],
   "source": []
  },
  {
   "cell_type": "code",
   "execution_count": null,
   "metadata": {},
   "outputs": [],
   "source": []
  }
 ],
 "metadata": {
  "kernelspec": {
   "display_name": "Python 3 (ipykernel)",
   "language": "python",
   "name": "python3"
  },
  "language_info": {
   "codemirror_mode": {
    "name": "ipython",
    "version": 3
   },
   "file_extension": ".py",
   "mimetype": "text/x-python",
   "name": "python",
   "nbconvert_exporter": "python",
   "pygments_lexer": "ipython3",
   "version": "3.8.10"
  }
 },
 "nbformat": 4,
 "nbformat_minor": 4
}
