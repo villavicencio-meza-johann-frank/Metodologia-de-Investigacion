{
 "cells": [
  {
   "cell_type": "code",
   "execution_count": 1,
   "metadata": {},
   "outputs": [],
   "source": [
    " class Node:\n",
    "    def __init__(self, index, demand, serv_time, time_window, lat, long):\n",
    "        self.index = index\n",
    "        self.demand = demand\n",
    "        self.serv_time = serv_time\n",
    "        self.time_window = time_window\n",
    "        self.lat = lat\n",
    "        self.long = long\n",
    "\n",
    "    def __index__(self):\n",
    "        return self.index\n",
    "\n",
    "    def __hash__(self):\n",
    "        return self.index\n",
    "\n",
    "    def __repr__(self):\n",
    "        return f\"Customer <{self.index}>\""
   ]
  },
  {
   "cell_type": "code",
   "execution_count": 2,
   "metadata": {},
   "outputs": [],
   "source": [
    "from docplex.mp.model import Model\n",
    "\n",
    "def build_VRPTW_problem(capacity, nodes, times, vehicles,**kwargs):\n",
    "    \n",
    "    \n",
    "    #Parámetros\n",
    "    customers = [cstmrs for cstmrs in nodes if cstmrs.index != 0] \n",
    "    #Big M\n",
    "    bigM = 1000\n",
    "\n",
    "    #Declaración del modelo\n",
    "    m = Model(name = 'VRPTW', **kwargs)\n",
    "    \n",
    "    # ----- Variables -----\n",
    "    #Arco cubierto por vehículo\n",
    "    m.x_var = m.binary_var_cube(vehicles,nodes,nodes, name= 'route')\n",
    "    #Start time for the service of a customer\n",
    "    m.s_var = m.continuous_var_matrix(vehicles, nodes, name = 'service_time')\n",
    "\n",
    "    # ----- Restricciones -----\n",
    "    #La satisfacción del cliente\n",
    "    m.covering_cts = []\n",
    "    for i in customers: \n",
    "        cust_satisf_ct = m.sum(\n",
    "            m.x_var[u,i,j] for j in nodes for u in vehicles)>= 1\n",
    "        cust_satisf_ct.name = 'customer_satisf_{0!s}'.format(i.index)\n",
    "        m.covering_cts.append(cust_satisf_ct)\n",
    "\n",
    "    m.add_constraints(m.covering_cts)\n",
    "     \n",
    "    # Estructura de ruta\n",
    "    m.flow_cts = []\n",
    "    for i in nodes:\n",
    "        for u in vehicles:\n",
    "            flow_ct = (m.sum(m.x_var[u,i,j] for j in nodes) - \n",
    "                m.sum(m.x_var[u,j,i] for j in nodes)) == 0\n",
    "            flow_ct.name = 'flow_constraint_{0!s}_{1!s}'.format(i.index,u)\n",
    "            m.flow_cts.append(flow_ct)\n",
    "\n",
    "    for u in vehicles: \n",
    "        flow_ct = m.sum(m.x_var[u,nodes[0],i] for i in nodes) <= 1\n",
    "        flow_ct.name = 'flow_constraint_{0!s}_{1!s}_origin'.format(nodes[0].index,u)\n",
    "        m.flow_cts.append(flow_ct)\n",
    "\n",
    "    m.add_constraints(m.flow_cts)\n",
    " \n",
    "    #Capacidad del vehículo\n",
    "    m.capacity_cts = []\n",
    "    for u in vehicles:\n",
    "        capacity_ct = m.sum(nodes[i].demand * m.x_var[u,i,j] for i in nodes for j in nodes) <= capacity\n",
    "        capacity_ct.name = 'capacity_vehicle{0!s}'.format(u)\n",
    "        m.capacity_cts.append(capacity_ct)\n",
    "    \n",
    "    m.add_constraints(m.capacity_cts)\n",
    "    \n",
    "    #Ventanas de tiempo\n",
    "    m.time_window_cts = []\n",
    "    for i in nodes:\n",
    "        for j in customers: \n",
    "            for u in vehicles:\n",
    "             time_window_ct = m.s_var[u,i] + i.serv_time + times[i.index][j.index] - m.s_var[u,j] + bigM*m.x_var[u,i,j] <= bigM\n",
    "             time_window_ct.name = 'time_window_{0!s}_{1!s}_{2!s}'.format(u,i.index,j.index)\n",
    "             m.time_window_cts.append(time_window_ct)\n",
    "    \n",
    "    for i in customers:\n",
    "        for u in vehicles: \n",
    "         time_window_ct = m.s_var[u,i]+ i.serv_time + times[i][0] - nodes[0].time_window[1] + bigM*m.x_var[u,i,nodes[0]]<= bigM\n",
    "         time_window_ct.name = 'time_window_{0!s}_{1!s}_{2!s}_arrival'.format(u,i.index,nodes[0].index)\n",
    "         m.time_window_cts.append(time_window_ct)\n",
    "\n",
    "    for i in nodes:\n",
    "        for u in vehicles:\n",
    "            time_window_ct_lb = i.time_window[0] <= m.s_var[u,i]\n",
    "            time_window_ct_lb.name = 'time_window_lb_{0!s}'.format(i.index)\n",
    "            time_window_ct_ub = i.time_window[1] >= m.s_var[u,i]\n",
    "            time_window_ct_ub.name = 'time_window_ub_{0!s}'.format(i.index)\n",
    "            m.time_window_cts.append(time_window_ct_lb)\n",
    "            m.time_window_cts.append(time_window_ct_ub)\n",
    "    m.add_constraints(m.time_window_cts)\n",
    " \n",
    "    #----- Función objetiva -----\n",
    "    #Minimice el costo total\n",
    "    m.total_cost = m.sum(times[i][j]*m.x_var[u,i,j] for i in nodes for j in nodes for u in vehicles)\n",
    "    m.minimize(m.total_cost)\n",
    "    \n",
    "    return m\n"
   ]
  },
  {
   "cell_type": "code",
   "execution_count": 3,
   "metadata": {},
   "outputs": [],
   "source": [
    "CENTRO_REPARTO = Node(0,0,0,[0,120],-12.055286215862173, -77.03761770324066)# Wilson centro cómputo compras\n",
    "Punto_1 = Node(1,10,3,[0,120],-11.860864774319099, -77.08270885357037)# ,Domicilio 1 Puente Piedra\n",
    "Punto_2 = Node(2,20,3,[0,120], -11.880264510131493, -77.02095950290273)# ,Domicilio 2 Carabayllo \n",
    "Punto_3 = Node(3,30,3,[0,120],-11.98956118254249, -77.09880073186692)# Domicilio 3 San Martin de Porres\n",
    "Punto_4 = Node(4,20,3,[0,120], -12.047362913132519, -77.12649612188682)# ,Domicilio 4  Callao\n",
    "Punto_5 = Node(5,20,3,[0,120],-12.165407596126173, -76.96328741326177)#Domicilio 5 Miraflores\n",
    "Punto_6 = Node(6,65,3,[0,120],-12.022785437170445, -76.89412395721087)#Domicilio 6 Ate\n",
    "Punto_7 = Node(7,15,3,[0,120],-12.114866761848441, -77.03982184054135)#Domicilio 7 Miraflores\n",
    "Punto_8 = Node(8,40,3,[0,120],-12.243772882472243, -76.91589482960883)#Domicilio 8 Villa el Salvador\n",
    "vehicles = [1,2,3]\n",
    "capacity = 100\n",
    "nodes = [CENTRO_REPARTO, Punto_1,Punto_2, Punto_3,Punto_4,Punto_5,Punto_6,Punto_7,Punto_8]"
   ]
  },
  {
   "cell_type": "code",
   "execution_count": 4,
   "metadata": {
    "scrolled": false
   },
   "outputs": [
    {
     "data": {
      "text/html": [
       "<div style=\"width:100%;\"><div style=\"position:relative;width:100%;height:0;padding-bottom:60%;\"><span style=\"color:#565656\">Make this Notebook Trusted to load map: File -> Trust Notebook</span><iframe src=\"about:blank\" style=\"position:absolute;width:100%;height:100%;left:0;top:0;border:none !important;\" data-html=%3C%21DOCTYPE%20html%3E%0A%3Chead%3E%20%20%20%20%0A%20%20%20%20%3Cmeta%20http-equiv%3D%22content-type%22%20content%3D%22text/html%3B%20charset%3DUTF-8%22%20/%3E%0A%20%20%20%20%0A%20%20%20%20%20%20%20%20%3Cscript%3E%0A%20%20%20%20%20%20%20%20%20%20%20%20L_NO_TOUCH%20%3D%20false%3B%0A%20%20%20%20%20%20%20%20%20%20%20%20L_DISABLE_3D%20%3D%20false%3B%0A%20%20%20%20%20%20%20%20%3C/script%3E%0A%20%20%20%20%0A%20%20%20%20%3Cstyle%3Ehtml%2C%20body%20%7Bwidth%3A%20100%25%3Bheight%3A%20100%25%3Bmargin%3A%200%3Bpadding%3A%200%3B%7D%3C/style%3E%0A%20%20%20%20%3Cstyle%3E%23map%20%7Bposition%3Aabsolute%3Btop%3A0%3Bbottom%3A0%3Bright%3A0%3Bleft%3A0%3B%7D%3C/style%3E%0A%20%20%20%20%3Cscript%20src%3D%22https%3A//cdn.jsdelivr.net/npm/leaflet%401.6.0/dist/leaflet.js%22%3E%3C/script%3E%0A%20%20%20%20%3Cscript%20src%3D%22https%3A//code.jquery.com/jquery-1.12.4.min.js%22%3E%3C/script%3E%0A%20%20%20%20%3Cscript%20src%3D%22https%3A//maxcdn.bootstrapcdn.com/bootstrap/3.2.0/js/bootstrap.min.js%22%3E%3C/script%3E%0A%20%20%20%20%3Cscript%20src%3D%22https%3A//cdnjs.cloudflare.com/ajax/libs/Leaflet.awesome-markers/2.0.2/leaflet.awesome-markers.js%22%3E%3C/script%3E%0A%20%20%20%20%3Clink%20rel%3D%22stylesheet%22%20href%3D%22https%3A//cdn.jsdelivr.net/npm/leaflet%401.6.0/dist/leaflet.css%22/%3E%0A%20%20%20%20%3Clink%20rel%3D%22stylesheet%22%20href%3D%22https%3A//maxcdn.bootstrapcdn.com/bootstrap/3.2.0/css/bootstrap.min.css%22/%3E%0A%20%20%20%20%3Clink%20rel%3D%22stylesheet%22%20href%3D%22https%3A//maxcdn.bootstrapcdn.com/bootstrap/3.2.0/css/bootstrap-theme.min.css%22/%3E%0A%20%20%20%20%3Clink%20rel%3D%22stylesheet%22%20href%3D%22https%3A//maxcdn.bootstrapcdn.com/font-awesome/4.6.3/css/font-awesome.min.css%22/%3E%0A%20%20%20%20%3Clink%20rel%3D%22stylesheet%22%20href%3D%22https%3A//cdnjs.cloudflare.com/ajax/libs/Leaflet.awesome-markers/2.0.2/leaflet.awesome-markers.css%22/%3E%0A%20%20%20%20%3Clink%20rel%3D%22stylesheet%22%20href%3D%22https%3A//cdn.jsdelivr.net/gh/python-visualization/folium/folium/templates/leaflet.awesome.rotate.min.css%22/%3E%0A%20%20%20%20%0A%20%20%20%20%20%20%20%20%20%20%20%20%3Cmeta%20name%3D%22viewport%22%20content%3D%22width%3Ddevice-width%2C%0A%20%20%20%20%20%20%20%20%20%20%20%20%20%20%20%20initial-scale%3D1.0%2C%20maximum-scale%3D1.0%2C%20user-scalable%3Dno%22%20/%3E%0A%20%20%20%20%20%20%20%20%20%20%20%20%3Cstyle%3E%0A%20%20%20%20%20%20%20%20%20%20%20%20%20%20%20%20%23map_5bd785cfb23e4ad59fe53dadce7681e4%20%7B%0A%20%20%20%20%20%20%20%20%20%20%20%20%20%20%20%20%20%20%20%20position%3A%20relative%3B%0A%20%20%20%20%20%20%20%20%20%20%20%20%20%20%20%20%20%20%20%20width%3A%20100.0%25%3B%0A%20%20%20%20%20%20%20%20%20%20%20%20%20%20%20%20%20%20%20%20height%3A%20100.0%25%3B%0A%20%20%20%20%20%20%20%20%20%20%20%20%20%20%20%20%20%20%20%20left%3A%200.0%25%3B%0A%20%20%20%20%20%20%20%20%20%20%20%20%20%20%20%20%20%20%20%20top%3A%200.0%25%3B%0A%20%20%20%20%20%20%20%20%20%20%20%20%20%20%20%20%7D%0A%20%20%20%20%20%20%20%20%20%20%20%20%3C/style%3E%0A%20%20%20%20%20%20%20%20%0A%3C/head%3E%0A%3Cbody%3E%20%20%20%20%0A%20%20%20%20%0A%20%20%20%20%20%20%20%20%20%20%20%20%3Cdiv%20class%3D%22folium-map%22%20id%3D%22map_5bd785cfb23e4ad59fe53dadce7681e4%22%20%3E%3C/div%3E%0A%20%20%20%20%20%20%20%20%0A%3C/body%3E%0A%3Cscript%3E%20%20%20%20%0A%20%20%20%20%0A%20%20%20%20%20%20%20%20%20%20%20%20var%20map_5bd785cfb23e4ad59fe53dadce7681e4%20%3D%20L.map%28%0A%20%20%20%20%20%20%20%20%20%20%20%20%20%20%20%20%22map_5bd785cfb23e4ad59fe53dadce7681e4%22%2C%0A%20%20%20%20%20%20%20%20%20%20%20%20%20%20%20%20%7B%0A%20%20%20%20%20%20%20%20%20%20%20%20%20%20%20%20%20%20%20%20center%3A%20%5B-12.047209%2C%20-77.069313%5D%2C%0A%20%20%20%20%20%20%20%20%20%20%20%20%20%20%20%20%20%20%20%20crs%3A%20L.CRS.EPSG3857%2C%0A%20%20%20%20%20%20%20%20%20%20%20%20%20%20%20%20%20%20%20%20zoom%3A%2011%2C%0A%20%20%20%20%20%20%20%20%20%20%20%20%20%20%20%20%20%20%20%20zoomControl%3A%20true%2C%0A%20%20%20%20%20%20%20%20%20%20%20%20%20%20%20%20%20%20%20%20preferCanvas%3A%20false%2C%0A%20%20%20%20%20%20%20%20%20%20%20%20%20%20%20%20%7D%0A%20%20%20%20%20%20%20%20%20%20%20%20%29%3B%0A%0A%20%20%20%20%20%20%20%20%20%20%20%20%0A%0A%20%20%20%20%20%20%20%20%0A%20%20%20%20%0A%20%20%20%20%20%20%20%20%20%20%20%20var%20tile_layer_53a11b8033944f38a4e46864be2777cb%20%3D%20L.tileLayer%28%0A%20%20%20%20%20%20%20%20%20%20%20%20%20%20%20%20%22https%3A//%7Bs%7D.tile.openstreetmap.org/%7Bz%7D/%7Bx%7D/%7By%7D.png%22%2C%0A%20%20%20%20%20%20%20%20%20%20%20%20%20%20%20%20%7B%22attribution%22%3A%20%22Data%20by%20%5Cu0026copy%3B%20%5Cu003ca%20href%3D%5C%22http%3A//openstreetmap.org%5C%22%5Cu003eOpenStreetMap%5Cu003c/a%5Cu003e%2C%20under%20%5Cu003ca%20href%3D%5C%22http%3A//www.openstreetmap.org/copyright%5C%22%5Cu003eODbL%5Cu003c/a%5Cu003e.%22%2C%20%22detectRetina%22%3A%20false%2C%20%22maxNativeZoom%22%3A%2018%2C%20%22maxZoom%22%3A%2018%2C%20%22minZoom%22%3A%200%2C%20%22noWrap%22%3A%20false%2C%20%22opacity%22%3A%201%2C%20%22subdomains%22%3A%20%22abc%22%2C%20%22tms%22%3A%20false%7D%0A%20%20%20%20%20%20%20%20%20%20%20%20%29.addTo%28map_5bd785cfb23e4ad59fe53dadce7681e4%29%3B%0A%20%20%20%20%20%20%20%20%0A%20%20%20%20%0A%20%20%20%20%20%20%20%20%20%20%20%20var%20marker_5a8088346e6b400b8bb47029ca4b50ca%20%3D%20L.marker%28%0A%20%20%20%20%20%20%20%20%20%20%20%20%20%20%20%20%5B-11.860864774319099%2C%20-77.08270885357037%5D%2C%0A%20%20%20%20%20%20%20%20%20%20%20%20%20%20%20%20%7B%7D%0A%20%20%20%20%20%20%20%20%20%20%20%20%29.addTo%28map_5bd785cfb23e4ad59fe53dadce7681e4%29%3B%0A%20%20%20%20%20%20%20%20%0A%20%20%20%20%0A%20%20%20%20%20%20%20%20%20%20%20%20var%20icon_41d80d2764524e0397237b3fa1057b58%20%3D%20L.AwesomeMarkers.icon%28%0A%20%20%20%20%20%20%20%20%20%20%20%20%20%20%20%20%7B%22extraClasses%22%3A%20%22fa-rotate-0%22%2C%20%22icon%22%3A%20%22home%22%2C%20%22iconColor%22%3A%20%22white%22%2C%20%22markerColor%22%3A%20%22red%22%2C%20%22prefix%22%3A%20%22fa%22%7D%0A%20%20%20%20%20%20%20%20%20%20%20%20%29%3B%0A%20%20%20%20%20%20%20%20%20%20%20%20marker_5a8088346e6b400b8bb47029ca4b50ca.setIcon%28icon_41d80d2764524e0397237b3fa1057b58%29%3B%0A%20%20%20%20%20%20%20%20%0A%20%20%20%20%0A%20%20%20%20%20%20%20%20var%20popup_88916dcaea4b49688f25e780925142cd%20%3D%20L.popup%28%7B%22maxWidth%22%3A%20%22100%25%22%7D%29%3B%0A%0A%20%20%20%20%20%20%20%20%0A%20%20%20%20%20%20%20%20%20%20%20%20var%20html_c3c925be3a124b76819139c94be126cc%20%3D%20%24%28%60%3Cdiv%20id%3D%22html_c3c925be3a124b76819139c94be126cc%22%20style%3D%22width%3A%20100.0%25%3B%20height%3A%20100.0%25%3B%22%3EPunto%201%3C/div%3E%60%29%5B0%5D%3B%0A%20%20%20%20%20%20%20%20%20%20%20%20popup_88916dcaea4b49688f25e780925142cd.setContent%28html_c3c925be3a124b76819139c94be126cc%29%3B%0A%20%20%20%20%20%20%20%20%0A%0A%20%20%20%20%20%20%20%20marker_5a8088346e6b400b8bb47029ca4b50ca.bindPopup%28popup_88916dcaea4b49688f25e780925142cd%29%0A%20%20%20%20%20%20%20%20%3B%0A%0A%20%20%20%20%20%20%20%20%0A%20%20%20%20%0A%20%20%20%20%0A%20%20%20%20%20%20%20%20%20%20%20%20var%20marker_0e5cbdf38d68406494eafce2ac3010f9%20%3D%20L.marker%28%0A%20%20%20%20%20%20%20%20%20%20%20%20%20%20%20%20%5B-12.055286215862173%2C%20-77.03761770324066%5D%2C%0A%20%20%20%20%20%20%20%20%20%20%20%20%20%20%20%20%7B%7D%0A%20%20%20%20%20%20%20%20%20%20%20%20%29.addTo%28map_5bd785cfb23e4ad59fe53dadce7681e4%29%3B%0A%20%20%20%20%20%20%20%20%0A%20%20%20%20%0A%20%20%20%20%20%20%20%20%20%20%20%20var%20icon_649b4a309ebf4ed9afe30287ad1b46be%20%3D%20L.AwesomeMarkers.icon%28%0A%20%20%20%20%20%20%20%20%20%20%20%20%20%20%20%20%7B%22extraClasses%22%3A%20%22fa-rotate-0%22%2C%20%22icon%22%3A%20%22truck%22%2C%20%22iconColor%22%3A%20%22white%22%2C%20%22markerColor%22%3A%20%22green%22%2C%20%22prefix%22%3A%20%22fa%22%7D%0A%20%20%20%20%20%20%20%20%20%20%20%20%29%3B%0A%20%20%20%20%20%20%20%20%20%20%20%20marker_0e5cbdf38d68406494eafce2ac3010f9.setIcon%28icon_649b4a309ebf4ed9afe30287ad1b46be%29%3B%0A%20%20%20%20%20%20%20%20%0A%20%20%20%20%0A%20%20%20%20%20%20%20%20var%20popup_4f061affd5614f6e8898297217026738%20%3D%20L.popup%28%7B%22maxWidth%22%3A%20%22100%25%22%7D%29%3B%0A%0A%20%20%20%20%20%20%20%20%0A%20%20%20%20%20%20%20%20%20%20%20%20var%20html_2043021e684145b9ac2fa37aec1e7209%20%3D%20%24%28%60%3Cdiv%20id%3D%22html_2043021e684145b9ac2fa37aec1e7209%22%20style%3D%22width%3A%20100.0%25%3B%20height%3A%20100.0%25%3B%22%3EZONA%20DE%20REPARTO%3C/div%3E%60%29%5B0%5D%3B%0A%20%20%20%20%20%20%20%20%20%20%20%20popup_4f061affd5614f6e8898297217026738.setContent%28html_2043021e684145b9ac2fa37aec1e7209%29%3B%0A%20%20%20%20%20%20%20%20%0A%0A%20%20%20%20%20%20%20%20marker_0e5cbdf38d68406494eafce2ac3010f9.bindPopup%28popup_4f061affd5614f6e8898297217026738%29%0A%20%20%20%20%20%20%20%20%3B%0A%0A%20%20%20%20%20%20%20%20%0A%20%20%20%20%0A%20%20%20%20%0A%20%20%20%20%20%20%20%20%20%20%20%20var%20marker_3b2a379964fd4d18b2852b5d4866da97%20%3D%20L.marker%28%0A%20%20%20%20%20%20%20%20%20%20%20%20%20%20%20%20%5B-11.880264510131493%2C%20-77.02095950290273%5D%2C%0A%20%20%20%20%20%20%20%20%20%20%20%20%20%20%20%20%7B%7D%0A%20%20%20%20%20%20%20%20%20%20%20%20%29.addTo%28map_5bd785cfb23e4ad59fe53dadce7681e4%29%3B%0A%20%20%20%20%20%20%20%20%0A%20%20%20%20%0A%20%20%20%20%20%20%20%20%20%20%20%20var%20icon_ec97c50d5dd6487fab40eee6d638e112%20%3D%20L.AwesomeMarkers.icon%28%0A%20%20%20%20%20%20%20%20%20%20%20%20%20%20%20%20%7B%22extraClasses%22%3A%20%22fa-rotate-0%22%2C%20%22icon%22%3A%20%22home%22%2C%20%22iconColor%22%3A%20%22white%22%2C%20%22markerColor%22%3A%20%22red%22%2C%20%22prefix%22%3A%20%22fa%22%7D%0A%20%20%20%20%20%20%20%20%20%20%20%20%29%3B%0A%20%20%20%20%20%20%20%20%20%20%20%20marker_3b2a379964fd4d18b2852b5d4866da97.setIcon%28icon_ec97c50d5dd6487fab40eee6d638e112%29%3B%0A%20%20%20%20%20%20%20%20%0A%20%20%20%20%0A%20%20%20%20%20%20%20%20var%20popup_ae9bbe7776174a22a1bc6f2037714b96%20%3D%20L.popup%28%7B%22maxWidth%22%3A%20%22100%25%22%7D%29%3B%0A%0A%20%20%20%20%20%20%20%20%0A%20%20%20%20%20%20%20%20%20%20%20%20var%20html_7da2250415ad41a684c47656e7598c9c%20%3D%20%24%28%60%3Cdiv%20id%3D%22html_7da2250415ad41a684c47656e7598c9c%22%20style%3D%22width%3A%20100.0%25%3B%20height%3A%20100.0%25%3B%22%3EPunto%202%3C/div%3E%60%29%5B0%5D%3B%0A%20%20%20%20%20%20%20%20%20%20%20%20popup_ae9bbe7776174a22a1bc6f2037714b96.setContent%28html_7da2250415ad41a684c47656e7598c9c%29%3B%0A%20%20%20%20%20%20%20%20%0A%0A%20%20%20%20%20%20%20%20marker_3b2a379964fd4d18b2852b5d4866da97.bindPopup%28popup_ae9bbe7776174a22a1bc6f2037714b96%29%0A%20%20%20%20%20%20%20%20%3B%0A%0A%20%20%20%20%20%20%20%20%0A%20%20%20%20%0A%20%20%20%20%0A%20%20%20%20%20%20%20%20%20%20%20%20var%20marker_4e4107f9367b4b9eac791f92fbf1ae11%20%3D%20L.marker%28%0A%20%20%20%20%20%20%20%20%20%20%20%20%20%20%20%20%5B-12.055286215862173%2C%20-77.03761770324066%5D%2C%0A%20%20%20%20%20%20%20%20%20%20%20%20%20%20%20%20%7B%7D%0A%20%20%20%20%20%20%20%20%20%20%20%20%29.addTo%28map_5bd785cfb23e4ad59fe53dadce7681e4%29%3B%0A%20%20%20%20%20%20%20%20%0A%20%20%20%20%0A%20%20%20%20%20%20%20%20%20%20%20%20var%20icon_d357b4dbd66d44be85bcfc766f82c3df%20%3D%20L.AwesomeMarkers.icon%28%0A%20%20%20%20%20%20%20%20%20%20%20%20%20%20%20%20%7B%22extraClasses%22%3A%20%22fa-rotate-0%22%2C%20%22icon%22%3A%20%22truck%22%2C%20%22iconColor%22%3A%20%22white%22%2C%20%22markerColor%22%3A%20%22green%22%2C%20%22prefix%22%3A%20%22fa%22%7D%0A%20%20%20%20%20%20%20%20%20%20%20%20%29%3B%0A%20%20%20%20%20%20%20%20%20%20%20%20marker_4e4107f9367b4b9eac791f92fbf1ae11.setIcon%28icon_d357b4dbd66d44be85bcfc766f82c3df%29%3B%0A%20%20%20%20%20%20%20%20%0A%20%20%20%20%0A%20%20%20%20%20%20%20%20var%20popup_886488e170094e249e58efe3cc4c48a9%20%3D%20L.popup%28%7B%22maxWidth%22%3A%20%22100%25%22%7D%29%3B%0A%0A%20%20%20%20%20%20%20%20%0A%20%20%20%20%20%20%20%20%20%20%20%20var%20html_c2ad0818662d4aa9b7301a513784d915%20%3D%20%24%28%60%3Cdiv%20id%3D%22html_c2ad0818662d4aa9b7301a513784d915%22%20style%3D%22width%3A%20100.0%25%3B%20height%3A%20100.0%25%3B%22%3EZONA%20DE%20REPARTO%3C/div%3E%60%29%5B0%5D%3B%0A%20%20%20%20%20%20%20%20%20%20%20%20popup_886488e170094e249e58efe3cc4c48a9.setContent%28html_c2ad0818662d4aa9b7301a513784d915%29%3B%0A%20%20%20%20%20%20%20%20%0A%0A%20%20%20%20%20%20%20%20marker_4e4107f9367b4b9eac791f92fbf1ae11.bindPopup%28popup_886488e170094e249e58efe3cc4c48a9%29%0A%20%20%20%20%20%20%20%20%3B%0A%0A%20%20%20%20%20%20%20%20%0A%20%20%20%20%0A%20%20%20%20%0A%20%20%20%20%20%20%20%20%20%20%20%20var%20marker_efc4b3675796468d9eb6e7a64a355045%20%3D%20L.marker%28%0A%20%20%20%20%20%20%20%20%20%20%20%20%20%20%20%20%5B-11.98956118254249%2C%20-77.09880073186692%5D%2C%0A%20%20%20%20%20%20%20%20%20%20%20%20%20%20%20%20%7B%7D%0A%20%20%20%20%20%20%20%20%20%20%20%20%29.addTo%28map_5bd785cfb23e4ad59fe53dadce7681e4%29%3B%0A%20%20%20%20%20%20%20%20%0A%20%20%20%20%0A%20%20%20%20%20%20%20%20%20%20%20%20var%20icon_b38e823feeb64cb8beb58b9adb90e437%20%3D%20L.AwesomeMarkers.icon%28%0A%20%20%20%20%20%20%20%20%20%20%20%20%20%20%20%20%7B%22extraClasses%22%3A%20%22fa-rotate-0%22%2C%20%22icon%22%3A%20%22home%22%2C%20%22iconColor%22%3A%20%22white%22%2C%20%22markerColor%22%3A%20%22red%22%2C%20%22prefix%22%3A%20%22fa%22%7D%0A%20%20%20%20%20%20%20%20%20%20%20%20%29%3B%0A%20%20%20%20%20%20%20%20%20%20%20%20marker_efc4b3675796468d9eb6e7a64a355045.setIcon%28icon_b38e823feeb64cb8beb58b9adb90e437%29%3B%0A%20%20%20%20%20%20%20%20%0A%20%20%20%20%0A%20%20%20%20%20%20%20%20var%20popup_5ced14ff64534bebb2040940b971b0a7%20%3D%20L.popup%28%7B%22maxWidth%22%3A%20%22100%25%22%7D%29%3B%0A%0A%20%20%20%20%20%20%20%20%0A%20%20%20%20%20%20%20%20%20%20%20%20var%20html_0ac23a258b15402eb99708f9c68c07df%20%3D%20%24%28%60%3Cdiv%20id%3D%22html_0ac23a258b15402eb99708f9c68c07df%22%20style%3D%22width%3A%20100.0%25%3B%20height%3A%20100.0%25%3B%22%3EPunto%203%3C/div%3E%60%29%5B0%5D%3B%0A%20%20%20%20%20%20%20%20%20%20%20%20popup_5ced14ff64534bebb2040940b971b0a7.setContent%28html_0ac23a258b15402eb99708f9c68c07df%29%3B%0A%20%20%20%20%20%20%20%20%0A%0A%20%20%20%20%20%20%20%20marker_efc4b3675796468d9eb6e7a64a355045.bindPopup%28popup_5ced14ff64534bebb2040940b971b0a7%29%0A%20%20%20%20%20%20%20%20%3B%0A%0A%20%20%20%20%20%20%20%20%0A%20%20%20%20%0A%20%20%20%20%0A%20%20%20%20%20%20%20%20%20%20%20%20var%20marker_818502c3af3e4015a58e616033fe9ad8%20%3D%20L.marker%28%0A%20%20%20%20%20%20%20%20%20%20%20%20%20%20%20%20%5B-12.055286215862173%2C%20-77.03761770324066%5D%2C%0A%20%20%20%20%20%20%20%20%20%20%20%20%20%20%20%20%7B%7D%0A%20%20%20%20%20%20%20%20%20%20%20%20%29.addTo%28map_5bd785cfb23e4ad59fe53dadce7681e4%29%3B%0A%20%20%20%20%20%20%20%20%0A%20%20%20%20%0A%20%20%20%20%20%20%20%20%20%20%20%20var%20icon_a05ed76d9b8b470fb00d3c578e37ef31%20%3D%20L.AwesomeMarkers.icon%28%0A%20%20%20%20%20%20%20%20%20%20%20%20%20%20%20%20%7B%22extraClasses%22%3A%20%22fa-rotate-0%22%2C%20%22icon%22%3A%20%22truck%22%2C%20%22iconColor%22%3A%20%22white%22%2C%20%22markerColor%22%3A%20%22green%22%2C%20%22prefix%22%3A%20%22fa%22%7D%0A%20%20%20%20%20%20%20%20%20%20%20%20%29%3B%0A%20%20%20%20%20%20%20%20%20%20%20%20marker_818502c3af3e4015a58e616033fe9ad8.setIcon%28icon_a05ed76d9b8b470fb00d3c578e37ef31%29%3B%0A%20%20%20%20%20%20%20%20%0A%20%20%20%20%0A%20%20%20%20%20%20%20%20var%20popup_86b60620dd574442a4c034a6a7c5e64e%20%3D%20L.popup%28%7B%22maxWidth%22%3A%20%22100%25%22%7D%29%3B%0A%0A%20%20%20%20%20%20%20%20%0A%20%20%20%20%20%20%20%20%20%20%20%20var%20html_e0ba0c48d88d45928a7e4883067fb820%20%3D%20%24%28%60%3Cdiv%20id%3D%22html_e0ba0c48d88d45928a7e4883067fb820%22%20style%3D%22width%3A%20100.0%25%3B%20height%3A%20100.0%25%3B%22%3EZONA%20DE%20REPARTO%3C/div%3E%60%29%5B0%5D%3B%0A%20%20%20%20%20%20%20%20%20%20%20%20popup_86b60620dd574442a4c034a6a7c5e64e.setContent%28html_e0ba0c48d88d45928a7e4883067fb820%29%3B%0A%20%20%20%20%20%20%20%20%0A%0A%20%20%20%20%20%20%20%20marker_818502c3af3e4015a58e616033fe9ad8.bindPopup%28popup_86b60620dd574442a4c034a6a7c5e64e%29%0A%20%20%20%20%20%20%20%20%3B%0A%0A%20%20%20%20%20%20%20%20%0A%20%20%20%20%0A%20%20%20%20%0A%20%20%20%20%20%20%20%20%20%20%20%20var%20marker_69ad5f41fce8440f94d52cd09851d5af%20%3D%20L.marker%28%0A%20%20%20%20%20%20%20%20%20%20%20%20%20%20%20%20%5B-12.047362913132519%2C%20-77.12649612188682%5D%2C%0A%20%20%20%20%20%20%20%20%20%20%20%20%20%20%20%20%7B%7D%0A%20%20%20%20%20%20%20%20%20%20%20%20%29.addTo%28map_5bd785cfb23e4ad59fe53dadce7681e4%29%3B%0A%20%20%20%20%20%20%20%20%0A%20%20%20%20%0A%20%20%20%20%20%20%20%20%20%20%20%20var%20icon_d5b3e20045dc4ee4874c841eb762c60d%20%3D%20L.AwesomeMarkers.icon%28%0A%20%20%20%20%20%20%20%20%20%20%20%20%20%20%20%20%7B%22extraClasses%22%3A%20%22fa-rotate-0%22%2C%20%22icon%22%3A%20%22home%22%2C%20%22iconColor%22%3A%20%22white%22%2C%20%22markerColor%22%3A%20%22red%22%2C%20%22prefix%22%3A%20%22fa%22%7D%0A%20%20%20%20%20%20%20%20%20%20%20%20%29%3B%0A%20%20%20%20%20%20%20%20%20%20%20%20marker_69ad5f41fce8440f94d52cd09851d5af.setIcon%28icon_d5b3e20045dc4ee4874c841eb762c60d%29%3B%0A%20%20%20%20%20%20%20%20%0A%20%20%20%20%0A%20%20%20%20%20%20%20%20var%20popup_684d8faaa2c343b586112c1f2359b1b6%20%3D%20L.popup%28%7B%22maxWidth%22%3A%20%22100%25%22%7D%29%3B%0A%0A%20%20%20%20%20%20%20%20%0A%20%20%20%20%20%20%20%20%20%20%20%20var%20html_f870805f758540ab8a689f692111159e%20%3D%20%24%28%60%3Cdiv%20id%3D%22html_f870805f758540ab8a689f692111159e%22%20style%3D%22width%3A%20100.0%25%3B%20height%3A%20100.0%25%3B%22%3EPunto%204%3C/div%3E%60%29%5B0%5D%3B%0A%20%20%20%20%20%20%20%20%20%20%20%20popup_684d8faaa2c343b586112c1f2359b1b6.setContent%28html_f870805f758540ab8a689f692111159e%29%3B%0A%20%20%20%20%20%20%20%20%0A%0A%20%20%20%20%20%20%20%20marker_69ad5f41fce8440f94d52cd09851d5af.bindPopup%28popup_684d8faaa2c343b586112c1f2359b1b6%29%0A%20%20%20%20%20%20%20%20%3B%0A%0A%20%20%20%20%20%20%20%20%0A%20%20%20%20%0A%20%20%20%20%0A%20%20%20%20%20%20%20%20%20%20%20%20var%20marker_ef5c8eee91884b1db34f9578b48526b8%20%3D%20L.marker%28%0A%20%20%20%20%20%20%20%20%20%20%20%20%20%20%20%20%5B-12.055286215862173%2C%20-77.03761770324066%5D%2C%0A%20%20%20%20%20%20%20%20%20%20%20%20%20%20%20%20%7B%7D%0A%20%20%20%20%20%20%20%20%20%20%20%20%29.addTo%28map_5bd785cfb23e4ad59fe53dadce7681e4%29%3B%0A%20%20%20%20%20%20%20%20%0A%20%20%20%20%0A%20%20%20%20%20%20%20%20%20%20%20%20var%20icon_01496ad8510448c5ab85c474a5e7fb56%20%3D%20L.AwesomeMarkers.icon%28%0A%20%20%20%20%20%20%20%20%20%20%20%20%20%20%20%20%7B%22extraClasses%22%3A%20%22fa-rotate-0%22%2C%20%22icon%22%3A%20%22truck%22%2C%20%22iconColor%22%3A%20%22white%22%2C%20%22markerColor%22%3A%20%22green%22%2C%20%22prefix%22%3A%20%22fa%22%7D%0A%20%20%20%20%20%20%20%20%20%20%20%20%29%3B%0A%20%20%20%20%20%20%20%20%20%20%20%20marker_ef5c8eee91884b1db34f9578b48526b8.setIcon%28icon_01496ad8510448c5ab85c474a5e7fb56%29%3B%0A%20%20%20%20%20%20%20%20%0A%20%20%20%20%0A%20%20%20%20%20%20%20%20var%20popup_82222006fb1f4f37a4b4eb372c79b333%20%3D%20L.popup%28%7B%22maxWidth%22%3A%20%22100%25%22%7D%29%3B%0A%0A%20%20%20%20%20%20%20%20%0A%20%20%20%20%20%20%20%20%20%20%20%20var%20html_5e3f118d78e248d5a2908f49543fc85b%20%3D%20%24%28%60%3Cdiv%20id%3D%22html_5e3f118d78e248d5a2908f49543fc85b%22%20style%3D%22width%3A%20100.0%25%3B%20height%3A%20100.0%25%3B%22%3EZONA%20DE%20REPARTO%3C/div%3E%60%29%5B0%5D%3B%0A%20%20%20%20%20%20%20%20%20%20%20%20popup_82222006fb1f4f37a4b4eb372c79b333.setContent%28html_5e3f118d78e248d5a2908f49543fc85b%29%3B%0A%20%20%20%20%20%20%20%20%0A%0A%20%20%20%20%20%20%20%20marker_ef5c8eee91884b1db34f9578b48526b8.bindPopup%28popup_82222006fb1f4f37a4b4eb372c79b333%29%0A%20%20%20%20%20%20%20%20%3B%0A%0A%20%20%20%20%20%20%20%20%0A%20%20%20%20%0A%20%20%20%20%0A%20%20%20%20%20%20%20%20%20%20%20%20var%20marker_b1a276bcd1614d7ba9d3043640648edb%20%3D%20L.marker%28%0A%20%20%20%20%20%20%20%20%20%20%20%20%20%20%20%20%5B-12.165407596126173%2C%20-76.96328741326177%5D%2C%0A%20%20%20%20%20%20%20%20%20%20%20%20%20%20%20%20%7B%7D%0A%20%20%20%20%20%20%20%20%20%20%20%20%29.addTo%28map_5bd785cfb23e4ad59fe53dadce7681e4%29%3B%0A%20%20%20%20%20%20%20%20%0A%20%20%20%20%0A%20%20%20%20%20%20%20%20%20%20%20%20var%20icon_4ae9ea9b485d4cecb27e158d2d84ade9%20%3D%20L.AwesomeMarkers.icon%28%0A%20%20%20%20%20%20%20%20%20%20%20%20%20%20%20%20%7B%22extraClasses%22%3A%20%22fa-rotate-0%22%2C%20%22icon%22%3A%20%22home%22%2C%20%22iconColor%22%3A%20%22white%22%2C%20%22markerColor%22%3A%20%22red%22%2C%20%22prefix%22%3A%20%22fa%22%7D%0A%20%20%20%20%20%20%20%20%20%20%20%20%29%3B%0A%20%20%20%20%20%20%20%20%20%20%20%20marker_b1a276bcd1614d7ba9d3043640648edb.setIcon%28icon_4ae9ea9b485d4cecb27e158d2d84ade9%29%3B%0A%20%20%20%20%20%20%20%20%0A%20%20%20%20%0A%20%20%20%20%20%20%20%20var%20popup_4644a02ffd8646eb9f3e4399cc2f1cfd%20%3D%20L.popup%28%7B%22maxWidth%22%3A%20%22100%25%22%7D%29%3B%0A%0A%20%20%20%20%20%20%20%20%0A%20%20%20%20%20%20%20%20%20%20%20%20var%20html_6ec402cf9e6d4c1abdbf35e1b78b7566%20%3D%20%24%28%60%3Cdiv%20id%3D%22html_6ec402cf9e6d4c1abdbf35e1b78b7566%22%20style%3D%22width%3A%20100.0%25%3B%20height%3A%20100.0%25%3B%22%3EPunto%205%3C/div%3E%60%29%5B0%5D%3B%0A%20%20%20%20%20%20%20%20%20%20%20%20popup_4644a02ffd8646eb9f3e4399cc2f1cfd.setContent%28html_6ec402cf9e6d4c1abdbf35e1b78b7566%29%3B%0A%20%20%20%20%20%20%20%20%0A%0A%20%20%20%20%20%20%20%20marker_b1a276bcd1614d7ba9d3043640648edb.bindPopup%28popup_4644a02ffd8646eb9f3e4399cc2f1cfd%29%0A%20%20%20%20%20%20%20%20%3B%0A%0A%20%20%20%20%20%20%20%20%0A%20%20%20%20%0A%20%20%20%20%0A%20%20%20%20%20%20%20%20%20%20%20%20var%20marker_01ec228a4a5e4f3ba29b7459449e43b2%20%3D%20L.marker%28%0A%20%20%20%20%20%20%20%20%20%20%20%20%20%20%20%20%5B-12.055286215862173%2C%20-77.03761770324066%5D%2C%0A%20%20%20%20%20%20%20%20%20%20%20%20%20%20%20%20%7B%7D%0A%20%20%20%20%20%20%20%20%20%20%20%20%29.addTo%28map_5bd785cfb23e4ad59fe53dadce7681e4%29%3B%0A%20%20%20%20%20%20%20%20%0A%20%20%20%20%0A%20%20%20%20%20%20%20%20%20%20%20%20var%20icon_bb493484e99542d69e5541be637c072b%20%3D%20L.AwesomeMarkers.icon%28%0A%20%20%20%20%20%20%20%20%20%20%20%20%20%20%20%20%7B%22extraClasses%22%3A%20%22fa-rotate-0%22%2C%20%22icon%22%3A%20%22truck%22%2C%20%22iconColor%22%3A%20%22white%22%2C%20%22markerColor%22%3A%20%22green%22%2C%20%22prefix%22%3A%20%22fa%22%7D%0A%20%20%20%20%20%20%20%20%20%20%20%20%29%3B%0A%20%20%20%20%20%20%20%20%20%20%20%20marker_01ec228a4a5e4f3ba29b7459449e43b2.setIcon%28icon_bb493484e99542d69e5541be637c072b%29%3B%0A%20%20%20%20%20%20%20%20%0A%20%20%20%20%0A%20%20%20%20%20%20%20%20var%20popup_344fd08384424f4480951d3721c855cb%20%3D%20L.popup%28%7B%22maxWidth%22%3A%20%22100%25%22%7D%29%3B%0A%0A%20%20%20%20%20%20%20%20%0A%20%20%20%20%20%20%20%20%20%20%20%20var%20html_0b9710ca7cb8438d93f06799e5868c4e%20%3D%20%24%28%60%3Cdiv%20id%3D%22html_0b9710ca7cb8438d93f06799e5868c4e%22%20style%3D%22width%3A%20100.0%25%3B%20height%3A%20100.0%25%3B%22%3EZONA%20DE%20REPARTO%3C/div%3E%60%29%5B0%5D%3B%0A%20%20%20%20%20%20%20%20%20%20%20%20popup_344fd08384424f4480951d3721c855cb.setContent%28html_0b9710ca7cb8438d93f06799e5868c4e%29%3B%0A%20%20%20%20%20%20%20%20%0A%0A%20%20%20%20%20%20%20%20marker_01ec228a4a5e4f3ba29b7459449e43b2.bindPopup%28popup_344fd08384424f4480951d3721c855cb%29%0A%20%20%20%20%20%20%20%20%3B%0A%0A%20%20%20%20%20%20%20%20%0A%20%20%20%20%0A%20%20%20%20%0A%20%20%20%20%20%20%20%20%20%20%20%20var%20marker_4451ec90090a4ec3a0fe702ac574a6ad%20%3D%20L.marker%28%0A%20%20%20%20%20%20%20%20%20%20%20%20%20%20%20%20%5B-12.022785437170445%2C%20-76.89412395721087%5D%2C%0A%20%20%20%20%20%20%20%20%20%20%20%20%20%20%20%20%7B%7D%0A%20%20%20%20%20%20%20%20%20%20%20%20%29.addTo%28map_5bd785cfb23e4ad59fe53dadce7681e4%29%3B%0A%20%20%20%20%20%20%20%20%0A%20%20%20%20%0A%20%20%20%20%20%20%20%20%20%20%20%20var%20icon_8ab4ea8198e44dc58559ef7ed82b98ee%20%3D%20L.AwesomeMarkers.icon%28%0A%20%20%20%20%20%20%20%20%20%20%20%20%20%20%20%20%7B%22extraClasses%22%3A%20%22fa-rotate-0%22%2C%20%22icon%22%3A%20%22home%22%2C%20%22iconColor%22%3A%20%22white%22%2C%20%22markerColor%22%3A%20%22red%22%2C%20%22prefix%22%3A%20%22fa%22%7D%0A%20%20%20%20%20%20%20%20%20%20%20%20%29%3B%0A%20%20%20%20%20%20%20%20%20%20%20%20marker_4451ec90090a4ec3a0fe702ac574a6ad.setIcon%28icon_8ab4ea8198e44dc58559ef7ed82b98ee%29%3B%0A%20%20%20%20%20%20%20%20%0A%20%20%20%20%0A%20%20%20%20%20%20%20%20var%20popup_f39c272d365d468aaf1d6695604541de%20%3D%20L.popup%28%7B%22maxWidth%22%3A%20%22100%25%22%7D%29%3B%0A%0A%20%20%20%20%20%20%20%20%0A%20%20%20%20%20%20%20%20%20%20%20%20var%20html_fb1bfad812b0494995978ce2bb9eca62%20%3D%20%24%28%60%3Cdiv%20id%3D%22html_fb1bfad812b0494995978ce2bb9eca62%22%20style%3D%22width%3A%20100.0%25%3B%20height%3A%20100.0%25%3B%22%3EPunto%206%3C/div%3E%60%29%5B0%5D%3B%0A%20%20%20%20%20%20%20%20%20%20%20%20popup_f39c272d365d468aaf1d6695604541de.setContent%28html_fb1bfad812b0494995978ce2bb9eca62%29%3B%0A%20%20%20%20%20%20%20%20%0A%0A%20%20%20%20%20%20%20%20marker_4451ec90090a4ec3a0fe702ac574a6ad.bindPopup%28popup_f39c272d365d468aaf1d6695604541de%29%0A%20%20%20%20%20%20%20%20%3B%0A%0A%20%20%20%20%20%20%20%20%0A%20%20%20%20%0A%20%20%20%20%0A%20%20%20%20%20%20%20%20%20%20%20%20var%20marker_6b0ba8261aa84ebfa071ec091c2b48bb%20%3D%20L.marker%28%0A%20%20%20%20%20%20%20%20%20%20%20%20%20%20%20%20%5B-12.055286215862173%2C%20-77.03761770324066%5D%2C%0A%20%20%20%20%20%20%20%20%20%20%20%20%20%20%20%20%7B%7D%0A%20%20%20%20%20%20%20%20%20%20%20%20%29.addTo%28map_5bd785cfb23e4ad59fe53dadce7681e4%29%3B%0A%20%20%20%20%20%20%20%20%0A%20%20%20%20%0A%20%20%20%20%20%20%20%20%20%20%20%20var%20icon_03936dce0ab5466b93953a4d66488723%20%3D%20L.AwesomeMarkers.icon%28%0A%20%20%20%20%20%20%20%20%20%20%20%20%20%20%20%20%7B%22extraClasses%22%3A%20%22fa-rotate-0%22%2C%20%22icon%22%3A%20%22truck%22%2C%20%22iconColor%22%3A%20%22white%22%2C%20%22markerColor%22%3A%20%22green%22%2C%20%22prefix%22%3A%20%22fa%22%7D%0A%20%20%20%20%20%20%20%20%20%20%20%20%29%3B%0A%20%20%20%20%20%20%20%20%20%20%20%20marker_6b0ba8261aa84ebfa071ec091c2b48bb.setIcon%28icon_03936dce0ab5466b93953a4d66488723%29%3B%0A%20%20%20%20%20%20%20%20%0A%20%20%20%20%0A%20%20%20%20%20%20%20%20var%20popup_d9bcaf826a414632ba1d24f8d34899c1%20%3D%20L.popup%28%7B%22maxWidth%22%3A%20%22100%25%22%7D%29%3B%0A%0A%20%20%20%20%20%20%20%20%0A%20%20%20%20%20%20%20%20%20%20%20%20var%20html_0ba5cc0aa4714b5bb4733789499bd577%20%3D%20%24%28%60%3Cdiv%20id%3D%22html_0ba5cc0aa4714b5bb4733789499bd577%22%20style%3D%22width%3A%20100.0%25%3B%20height%3A%20100.0%25%3B%22%3EZONA%20DE%20REPARTO%3C/div%3E%60%29%5B0%5D%3B%0A%20%20%20%20%20%20%20%20%20%20%20%20popup_d9bcaf826a414632ba1d24f8d34899c1.setContent%28html_0ba5cc0aa4714b5bb4733789499bd577%29%3B%0A%20%20%20%20%20%20%20%20%0A%0A%20%20%20%20%20%20%20%20marker_6b0ba8261aa84ebfa071ec091c2b48bb.bindPopup%28popup_d9bcaf826a414632ba1d24f8d34899c1%29%0A%20%20%20%20%20%20%20%20%3B%0A%0A%20%20%20%20%20%20%20%20%0A%20%20%20%20%0A%20%20%20%20%0A%20%20%20%20%20%20%20%20%20%20%20%20var%20marker_7a886c562de5449b9b5fa87d2882629c%20%3D%20L.marker%28%0A%20%20%20%20%20%20%20%20%20%20%20%20%20%20%20%20%5B-12.114866761848441%2C%20-77.03982184054135%5D%2C%0A%20%20%20%20%20%20%20%20%20%20%20%20%20%20%20%20%7B%7D%0A%20%20%20%20%20%20%20%20%20%20%20%20%29.addTo%28map_5bd785cfb23e4ad59fe53dadce7681e4%29%3B%0A%20%20%20%20%20%20%20%20%0A%20%20%20%20%0A%20%20%20%20%20%20%20%20%20%20%20%20var%20icon_a8242d9141864c89a59cf78d02f4bca3%20%3D%20L.AwesomeMarkers.icon%28%0A%20%20%20%20%20%20%20%20%20%20%20%20%20%20%20%20%7B%22extraClasses%22%3A%20%22fa-rotate-0%22%2C%20%22icon%22%3A%20%22home%22%2C%20%22iconColor%22%3A%20%22white%22%2C%20%22markerColor%22%3A%20%22red%22%2C%20%22prefix%22%3A%20%22fa%22%7D%0A%20%20%20%20%20%20%20%20%20%20%20%20%29%3B%0A%20%20%20%20%20%20%20%20%20%20%20%20marker_7a886c562de5449b9b5fa87d2882629c.setIcon%28icon_a8242d9141864c89a59cf78d02f4bca3%29%3B%0A%20%20%20%20%20%20%20%20%0A%20%20%20%20%0A%20%20%20%20%20%20%20%20var%20popup_8d5bd4a6644548dda2837e2b2dbc57b7%20%3D%20L.popup%28%7B%22maxWidth%22%3A%20%22100%25%22%7D%29%3B%0A%0A%20%20%20%20%20%20%20%20%0A%20%20%20%20%20%20%20%20%20%20%20%20var%20html_6e5436f7e72141c5aa92280a20fe5825%20%3D%20%24%28%60%3Cdiv%20id%3D%22html_6e5436f7e72141c5aa92280a20fe5825%22%20style%3D%22width%3A%20100.0%25%3B%20height%3A%20100.0%25%3B%22%3EPunto%207%3C/div%3E%60%29%5B0%5D%3B%0A%20%20%20%20%20%20%20%20%20%20%20%20popup_8d5bd4a6644548dda2837e2b2dbc57b7.setContent%28html_6e5436f7e72141c5aa92280a20fe5825%29%3B%0A%20%20%20%20%20%20%20%20%0A%0A%20%20%20%20%20%20%20%20marker_7a886c562de5449b9b5fa87d2882629c.bindPopup%28popup_8d5bd4a6644548dda2837e2b2dbc57b7%29%0A%20%20%20%20%20%20%20%20%3B%0A%0A%20%20%20%20%20%20%20%20%0A%20%20%20%20%0A%20%20%20%20%0A%20%20%20%20%20%20%20%20%20%20%20%20var%20marker_acb18e48c41345edbfca2ae31776ed17%20%3D%20L.marker%28%0A%20%20%20%20%20%20%20%20%20%20%20%20%20%20%20%20%5B-12.055286215862173%2C%20-77.03761770324066%5D%2C%0A%20%20%20%20%20%20%20%20%20%20%20%20%20%20%20%20%7B%7D%0A%20%20%20%20%20%20%20%20%20%20%20%20%29.addTo%28map_5bd785cfb23e4ad59fe53dadce7681e4%29%3B%0A%20%20%20%20%20%20%20%20%0A%20%20%20%20%0A%20%20%20%20%20%20%20%20%20%20%20%20var%20icon_59d30f34e9f041f896583b37650487ba%20%3D%20L.AwesomeMarkers.icon%28%0A%20%20%20%20%20%20%20%20%20%20%20%20%20%20%20%20%7B%22extraClasses%22%3A%20%22fa-rotate-0%22%2C%20%22icon%22%3A%20%22truck%22%2C%20%22iconColor%22%3A%20%22white%22%2C%20%22markerColor%22%3A%20%22green%22%2C%20%22prefix%22%3A%20%22fa%22%7D%0A%20%20%20%20%20%20%20%20%20%20%20%20%29%3B%0A%20%20%20%20%20%20%20%20%20%20%20%20marker_acb18e48c41345edbfca2ae31776ed17.setIcon%28icon_59d30f34e9f041f896583b37650487ba%29%3B%0A%20%20%20%20%20%20%20%20%0A%20%20%20%20%0A%20%20%20%20%20%20%20%20var%20popup_5fb00dfad7aa4edea1e2a87626a05ed9%20%3D%20L.popup%28%7B%22maxWidth%22%3A%20%22100%25%22%7D%29%3B%0A%0A%20%20%20%20%20%20%20%20%0A%20%20%20%20%20%20%20%20%20%20%20%20var%20html_577fd89d07a449a4996d6d41058b0e9b%20%3D%20%24%28%60%3Cdiv%20id%3D%22html_577fd89d07a449a4996d6d41058b0e9b%22%20style%3D%22width%3A%20100.0%25%3B%20height%3A%20100.0%25%3B%22%3EZONA%20DE%20REPARTO%3C/div%3E%60%29%5B0%5D%3B%0A%20%20%20%20%20%20%20%20%20%20%20%20popup_5fb00dfad7aa4edea1e2a87626a05ed9.setContent%28html_577fd89d07a449a4996d6d41058b0e9b%29%3B%0A%20%20%20%20%20%20%20%20%0A%0A%20%20%20%20%20%20%20%20marker_acb18e48c41345edbfca2ae31776ed17.bindPopup%28popup_5fb00dfad7aa4edea1e2a87626a05ed9%29%0A%20%20%20%20%20%20%20%20%3B%0A%0A%20%20%20%20%20%20%20%20%0A%20%20%20%20%0A%20%20%20%20%0A%20%20%20%20%20%20%20%20%20%20%20%20var%20marker_a70e1a2af5474a3097a783adfa094b88%20%3D%20L.marker%28%0A%20%20%20%20%20%20%20%20%20%20%20%20%20%20%20%20%5B-12.243772882472243%2C%20-76.91589482960883%5D%2C%0A%20%20%20%20%20%20%20%20%20%20%20%20%20%20%20%20%7B%7D%0A%20%20%20%20%20%20%20%20%20%20%20%20%29.addTo%28map_5bd785cfb23e4ad59fe53dadce7681e4%29%3B%0A%20%20%20%20%20%20%20%20%0A%20%20%20%20%0A%20%20%20%20%20%20%20%20%20%20%20%20var%20icon_848851b5fc2944c0a63aef42bd5da29a%20%3D%20L.AwesomeMarkers.icon%28%0A%20%20%20%20%20%20%20%20%20%20%20%20%20%20%20%20%7B%22extraClasses%22%3A%20%22fa-rotate-0%22%2C%20%22icon%22%3A%20%22home%22%2C%20%22iconColor%22%3A%20%22white%22%2C%20%22markerColor%22%3A%20%22red%22%2C%20%22prefix%22%3A%20%22fa%22%7D%0A%20%20%20%20%20%20%20%20%20%20%20%20%29%3B%0A%20%20%20%20%20%20%20%20%20%20%20%20marker_a70e1a2af5474a3097a783adfa094b88.setIcon%28icon_848851b5fc2944c0a63aef42bd5da29a%29%3B%0A%20%20%20%20%20%20%20%20%0A%20%20%20%20%0A%20%20%20%20%20%20%20%20var%20popup_52ad324918494d84b78bd86d2476261a%20%3D%20L.popup%28%7B%22maxWidth%22%3A%20%22100%25%22%7D%29%3B%0A%0A%20%20%20%20%20%20%20%20%0A%20%20%20%20%20%20%20%20%20%20%20%20var%20html_4e0a6c645df44c038257dc143e8697fb%20%3D%20%24%28%60%3Cdiv%20id%3D%22html_4e0a6c645df44c038257dc143e8697fb%22%20style%3D%22width%3A%20100.0%25%3B%20height%3A%20100.0%25%3B%22%3EPunto%208%3C/div%3E%60%29%5B0%5D%3B%0A%20%20%20%20%20%20%20%20%20%20%20%20popup_52ad324918494d84b78bd86d2476261a.setContent%28html_4e0a6c645df44c038257dc143e8697fb%29%3B%0A%20%20%20%20%20%20%20%20%0A%0A%20%20%20%20%20%20%20%20marker_a70e1a2af5474a3097a783adfa094b88.bindPopup%28popup_52ad324918494d84b78bd86d2476261a%29%0A%20%20%20%20%20%20%20%20%3B%0A%0A%20%20%20%20%20%20%20%20%0A%20%20%20%20%0A%20%20%20%20%0A%20%20%20%20%20%20%20%20%20%20%20%20var%20marker_31314bafa6cb46069b6ad9b3bfbf7f9d%20%3D%20L.marker%28%0A%20%20%20%20%20%20%20%20%20%20%20%20%20%20%20%20%5B-12.055286215862173%2C%20-77.03761770324066%5D%2C%0A%20%20%20%20%20%20%20%20%20%20%20%20%20%20%20%20%7B%7D%0A%20%20%20%20%20%20%20%20%20%20%20%20%29.addTo%28map_5bd785cfb23e4ad59fe53dadce7681e4%29%3B%0A%20%20%20%20%20%20%20%20%0A%20%20%20%20%0A%20%20%20%20%20%20%20%20%20%20%20%20var%20icon_46ff8332e6d6477898302f415b18fdd2%20%3D%20L.AwesomeMarkers.icon%28%0A%20%20%20%20%20%20%20%20%20%20%20%20%20%20%20%20%7B%22extraClasses%22%3A%20%22fa-rotate-0%22%2C%20%22icon%22%3A%20%22truck%22%2C%20%22iconColor%22%3A%20%22white%22%2C%20%22markerColor%22%3A%20%22green%22%2C%20%22prefix%22%3A%20%22fa%22%7D%0A%20%20%20%20%20%20%20%20%20%20%20%20%29%3B%0A%20%20%20%20%20%20%20%20%20%20%20%20marker_31314bafa6cb46069b6ad9b3bfbf7f9d.setIcon%28icon_46ff8332e6d6477898302f415b18fdd2%29%3B%0A%20%20%20%20%20%20%20%20%0A%20%20%20%20%0A%20%20%20%20%20%20%20%20var%20popup_ab7c053677f5433d93b9ffdc5ad717a8%20%3D%20L.popup%28%7B%22maxWidth%22%3A%20%22100%25%22%7D%29%3B%0A%0A%20%20%20%20%20%20%20%20%0A%20%20%20%20%20%20%20%20%20%20%20%20var%20html_4dc0ed11b5784e80840ec685516867e7%20%3D%20%24%28%60%3Cdiv%20id%3D%22html_4dc0ed11b5784e80840ec685516867e7%22%20style%3D%22width%3A%20100.0%25%3B%20height%3A%20100.0%25%3B%22%3EZONA%20DE%20REPARTO%3C/div%3E%60%29%5B0%5D%3B%0A%20%20%20%20%20%20%20%20%20%20%20%20popup_ab7c053677f5433d93b9ffdc5ad717a8.setContent%28html_4dc0ed11b5784e80840ec685516867e7%29%3B%0A%20%20%20%20%20%20%20%20%0A%0A%20%20%20%20%20%20%20%20marker_31314bafa6cb46069b6ad9b3bfbf7f9d.bindPopup%28popup_ab7c053677f5433d93b9ffdc5ad717a8%29%0A%20%20%20%20%20%20%20%20%3B%0A%0A%20%20%20%20%20%20%20%20%0A%20%20%20%20%0A%3C/script%3E onload=\"this.contentDocument.open();this.contentDocument.write(    decodeURIComponent(this.getAttribute('data-html')));this.contentDocument.close();\" allowfullscreen webkitallowfullscreen mozallowfullscreen></iframe></div></div>"
      ],
      "text/plain": [
       "<folium.folium.Map at 0x261bf24ceb0>"
      ]
     },
     "execution_count": 4,
     "metadata": {},
     "output_type": "execute_result"
    }
   ],
   "source": [
    "import folium\n",
    "from folium import Marker\n",
    "\n",
    "m = folium.Map(location=[-12.047209, -77.069313], tiles='openstreetmap', zoom_start=11)\n",
    "for node in [n for n in nodes if n.index != 0]:\n",
    " Marker(location= [node.lat, node.long], icon= (folium.Icon(color='red', icon='home', prefix='fa'))).add_child(\n",
    "    folium.Popup('Punto {}'.format(node.index))).add_to(m)\n",
    "\n",
    " Marker(location= [nodes[0].lat,nodes[0].long], icon= (folium.Icon(color='green', icon='truck', prefix='fa'))).add_child(\n",
    "    folium.Popup('ZONA DE REPARTO')).add_to(m)\n",
    "m"
   ]
  },
  {
   "cell_type": "code",
   "execution_count": 5,
   "metadata": {},
   "outputs": [
    {
     "data": {
      "text/plain": [
       "[[0.0,\n",
       "  20.0,\n",
       "  17.599999999999998,\n",
       "  9.0,\n",
       "  8.9,\n",
       "  13.3,\n",
       "  14.7,\n",
       "  6.0,\n",
       "  22.400000000000002],\n",
       " [20.0, 0.0, 6.5, 13.0, 19.2, 32.7, 24.9, 25.8, 41.8],\n",
       " [17.599999999999998,\n",
       "  6.5,\n",
       "  0.0,\n",
       "  13.4,\n",
       "  19.8,\n",
       "  29.099999999999998,\n",
       "  19.1,\n",
       "  23.5,\n",
       "  37.8],\n",
       " [9.0, 13.0, 13.4, 0.0, 6.4, 22.2, 20.7, 13.8, 31.3],\n",
       " [8.9,\n",
       "  19.2,\n",
       "  19.8,\n",
       "  6.4,\n",
       "  0.0,\n",
       "  20.1,\n",
       "  23.400000000000002,\n",
       "  11.0,\n",
       "  28.799999999999997],\n",
       " [13.3, 32.7, 29.099999999999998, 22.2, 20.1, 0.0, 15.9, 9.2, 9.2],\n",
       " [14.7, 24.9, 19.1, 20.7, 23.400000000000002, 15.9, 0.0, 17.2, 22.2],\n",
       " [6.0, 25.8, 23.5, 13.8, 11.0, 9.2, 17.2, 0.0, 17.9],\n",
       " [22.400000000000002,\n",
       "  41.8,\n",
       "  37.8,\n",
       "  31.3,\n",
       "  28.799999999999997,\n",
       "  9.2,\n",
       "  22.2,\n",
       "  17.9,\n",
       "  0.0]]"
      ]
     },
     "execution_count": 5,
     "metadata": {},
     "output_type": "execute_result"
    }
   ],
   "source": [
    "\n",
    "times = [[round(((node_origin.lat - node_destin.lat)**2 + \n",
    "    (node_origin.long - node_destin.long)**2)**(1/2),3)*100 \n",
    "    for node_destin in nodes] for node_origin in nodes]\n",
    "times"
   ]
  },
  {
   "cell_type": "code",
   "execution_count": 6,
   "metadata": {},
   "outputs": [],
   "source": [
    "mod = build_VRPTW_problem(capacity, nodes, times, vehicles)"
   ]
  },
  {
   "cell_type": "code",
   "execution_count": 7,
   "metadata": {
    "scrolled": true
   },
   "outputs": [
    {
     "name": "stdout",
     "output_type": "stream",
     "text": [
      "solution for: VRPTW\n",
      "objective: 128.2\n",
      "route_1_Customer <0>_Customer <6>=1\n",
      "route_1_Customer <6>_Customer <0>=1\n",
      "route_2_Customer <0>_Customer <5>=1\n",
      "route_2_Customer <5>_Customer <8>=1\n",
      "route_2_Customer <7>_Customer <0>=1\n",
      "route_2_Customer <8>_Customer <7>=1\n",
      "route_3_Customer <0>_Customer <4>=1\n",
      "route_3_Customer <1>_Customer <2>=1\n",
      "route_3_Customer <2>_Customer <0>=1\n",
      "route_3_Customer <3>_Customer <1>=1\n",
      "route_3_Customer <4>_Customer <3>=1\n",
      "service_time_1_Customer <2>=120.000\n",
      "service_time_1_Customer <6>=14.700\n",
      "service_time_2_Customer <4>=120.000\n",
      "service_time_2_Customer <5>=13.300\n",
      "service_time_2_Customer <7>=111.000\n",
      "service_time_2_Customer <8>=90.100\n",
      "service_time_3_Customer <1>=34.300\n",
      "service_time_3_Customer <2>=43.800\n",
      "service_time_3_Customer <3>=18.300\n",
      "service_time_3_Customer <4>=8.900\n",
      "\n"
     ]
    }
   ],
   "source": [
    "import json \n",
    "sol = mod.solve()\n",
    "print (sol)\n"
   ]
  },
  {
   "cell_type": "code",
   "execution_count": 8,
   "metadata": {},
   "outputs": [
    {
     "data": {
      "text/plain": [
       "[{'index': '6', 'name': 'route_1_Customer <0>_Customer <6>', 'value': '1.0'},\n",
       " {'index': '54', 'name': 'route_1_Customer <6>_Customer <0>', 'value': '1.0'},\n",
       " {'index': '86', 'name': 'route_2_Customer <0>_Customer <5>', 'value': '1.0'},\n",
       " {'index': '134', 'name': 'route_2_Customer <5>_Customer <8>', 'value': '1.0'},\n",
       " {'index': '144', 'name': 'route_2_Customer <7>_Customer <0>', 'value': '1.0'},\n",
       " {'index': '160', 'name': 'route_2_Customer <8>_Customer <7>', 'value': '1.0'},\n",
       " {'index': '166', 'name': 'route_3_Customer <0>_Customer <4>', 'value': '1.0'},\n",
       " {'index': '173', 'name': 'route_3_Customer <1>_Customer <2>', 'value': '1.0'},\n",
       " {'index': '180', 'name': 'route_3_Customer <2>_Customer <0>', 'value': '1.0'},\n",
       " {'index': '190', 'name': 'route_3_Customer <3>_Customer <1>', 'value': '1.0'},\n",
       " {'index': '201', 'name': 'route_3_Customer <4>_Customer <3>', 'value': '1.0'},\n",
       " {'index': '245',\n",
       "  'name': 'service_time_1_Customer <2>',\n",
       "  'value': '120.00000000000023'},\n",
       " {'index': '249',\n",
       "  'name': 'service_time_1_Customer <6>',\n",
       "  'value': '14.700000000000045'},\n",
       " {'index': '256', 'name': 'service_time_2_Customer <4>', 'value': '120.0'},\n",
       " {'index': '257',\n",
       "  'name': 'service_time_2_Customer <5>',\n",
       "  'value': '13.299999999999955'},\n",
       " {'index': '259', 'name': 'service_time_2_Customer <7>', 'value': '111.0'}]"
      ]
     },
     "execution_count": 8,
     "metadata": {},
     "output_type": "execute_result"
    }
   ],
   "source": [
    "sol_dict = json.loads(sol.export_as_json_string())\n",
    "\n",
    "sol_dict['CPLEXSolution']['variables'][0:16]\n"
   ]
  },
  {
   "cell_type": "code",
   "execution_count": null,
   "metadata": {},
   "outputs": [],
   "source": []
  },
  {
   "cell_type": "code",
   "execution_count": null,
   "metadata": {},
   "outputs": [],
   "source": []
  }
 ],
 "metadata": {
  "kernelspec": {
   "display_name": "Python 3 (ipykernel)",
   "language": "python",
   "name": "python3"
  },
  "language_info": {
   "codemirror_mode": {
    "name": "ipython",
    "version": 3
   },
   "file_extension": ".py",
   "mimetype": "text/x-python",
   "name": "python",
   "nbconvert_exporter": "python",
   "pygments_lexer": "ipython3",
   "version": "3.8.10"
  }
 },
 "nbformat": 4,
 "nbformat_minor": 4
}
